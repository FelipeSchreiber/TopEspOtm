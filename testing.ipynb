{
 "cells": [
  {
   "cell_type": "code",
   "execution_count": 1,
   "id": "4e1a92a1",
   "metadata": {},
   "outputs": [],
   "source": [
    "from inequality_constrained3 import interior_points\n",
    "from equality_constrained import newton_equality_constrained\n",
    "from unconstrained import newton_irrestricted, grad_irrestricted\n",
    "from simplex import LP\n",
    "import autograd.numpy as np\n",
    "from autograd import elementwise_grad as egrad\n",
    "from autograd import jacobian, grad\n",
    "import cvxpy as cp\n",
    "import matplotlib.pyplot as plt\n",
    "import pandas as pd\n",
    "import time\n",
    "from scipy.optimize import linprog"
   ]
  },
  {
   "cell_type": "markdown",
   "id": "f850940b",
   "metadata": {},
   "source": [
    "## Irrestrito (a)"
   ]
  },
  {
   "cell_type": "code",
   "execution_count": 2,
   "id": "d4dd411e",
   "metadata": {},
   "outputs": [],
   "source": [
    "def generate_instance():\n",
    "    m = 20\n",
    "    n = 50\n",
    "    P = np.diag([1/n for n in range(1,n+1)])\n",
    "    A = np.random.rand(m, n)\n",
    "    x_0 = np.random.rand(n)\n",
    "    b = A.dot(x_0) + 2*np.random.rand(m)\n",
    "    c = np.ones(n) - 2*np.random.rand(n)\n",
    "    def f(x):\n",
    "        l1 = A@P@x\n",
    "        l2 = P@x\n",
    "        return c@P@x - np.sum(np.log(b - l1)) - np.sum(np.log(l2))\n",
    "    return x_0,f"
   ]
  },
  {
   "cell_type": "code",
   "execution_count": 3,
   "id": "62b5d7c6",
   "metadata": {},
   "outputs": [],
   "source": [
    "x_0,f = generate_instance()"
   ]
  },
  {
   "cell_type": "code",
   "execution_count": 4,
   "id": "9c578b01",
   "metadata": {},
   "outputs": [
    {
     "name": "stderr",
     "output_type": "stream",
     "text": [
      "/home/dell/anaconda3/lib/python3.9/site-packages/autograd/tracer.py:48: RuntimeWarning: invalid value encountered in log\n",
      "  return f_raw(*args, **kwargs)\n"
     ]
    }
   ],
   "source": [
    "solver = grad_irrestricted(f,None,x_0=x_0.copy(),autodiff=True)\n",
    "x,n_iter,sols_grad = solver.solve()"
   ]
  },
  {
   "cell_type": "code",
   "execution_count": 5,
   "id": "0f7ad023",
   "metadata": {},
   "outputs": [],
   "source": [
    "solver = newton_irrestricted(f,None,None,x_0.copy())\n",
    "x, n_iter,sols_nt = solver.solve()"
   ]
  },
  {
   "cell_type": "code",
   "execution_count": 7,
   "id": "ed2ecd40",
   "metadata": {},
   "outputs": [
    {
     "data": {
      "text/plain": [
       "[<matplotlib.lines.Line2D at 0x7fb8feb46af0>]"
      ]
     },
     "execution_count": 7,
     "metadata": {},
     "output_type": "execute_result"
    },
    {
     "data": {
      "image/png": "[encoded data removed]",
      "text/plain": [
       "<Figure size 432x288 with 1 Axes>"
      ]
     },
     "metadata": {
      "needs_background": "light"
     },
     "output_type": "display_data"
    }
   ],
   "source": [
    "plt.plot([sols_grad[i]-sols_grad[-1] for i in range(len(sols_grad))],label=\"Grad\")"
   ]
  },
  {
   "cell_type": "code",
   "execution_count": 8,
   "id": "9a622d3e",
   "metadata": {},
   "outputs": [
    {
     "data": {
      "text/plain": [
       "Text(0, 0.5, 'f(x) - p*')"
      ]
     },
     "execution_count": 8,
     "metadata": {},
     "output_type": "execute_result"
    },
    {
     "data": {
      "image/png": "[encoded data removed]",
      "text/plain": [
       "<Figure size 432x288 with 1 Axes>"
      ]
     },
     "metadata": {
      "needs_background": "light"
     },
     "output_type": "display_data"
    }
   ],
   "source": [
    "plt.plot([sols_nt[i]-sols_nt[-1] for i in range(len(sols_nt))],label=\"Newton\")\n",
    "#plt.plot([sols_grad[i]-sols_grad[-1] for i in range(len(sols_grad))],label=\"Grad\")\n",
    "plt.legend()\n",
    "plt.title(\"Newton x Gradiente\")\n",
    "plt.xlabel(\"Iters\")\n",
    "plt.ylabel(\"f(x) - p*\")"
   ]
  },
  {
   "cell_type": "code",
   "execution_count": null,
   "id": "6224baff",
   "metadata": {},
   "outputs": [],
   "source": [
    "plt.plot([sols_nt[i]-sols_nt[-1] for i in range(len(sols_nt))],label=\"Newton\")"
   ]
  },
  {
   "cell_type": "code",
   "execution_count": null,
   "id": "aa69cb8d",
   "metadata": {},
   "outputs": [],
   "source": [
    "f(x)"
   ]
  },
  {
   "cell_type": "code",
   "execution_count": null,
   "id": "741d6b51",
   "metadata": {},
   "outputs": [],
   "source": [
    "data = dict()\n",
    "data[\"method\"] = []\n",
    "data[\"time\"] = []\n",
    "data[\"iters\"] = []\n",
    "data[\"instance\"] = []\n",
    "data[\"opt_val\"] = []\n",
    "data[\"opt_point\"] = []\n",
    "for i in range(5):\n",
    "    x_0,f = generate_instance()\n",
    "    st = time.time()\n",
    "    solver = grad_irrestricted(f,None,x_0=x_0.copy())\n",
    "    x,n_iter,sols_grad = solver.solve()\n",
    "    end = time.time()\n",
    "    data[\"method\"].append(\"grad\")\n",
    "    data[\"time\"].append(end - st)\n",
    "    data[\"iters\"].append(n_iter)\n",
    "    data[\"instance\"].append(i)\n",
    "    data[\"opt_val\"].append(sols_grad[-1])\n",
    "    data[\"opt_point\"].append(x)\n",
    "    st = time.time()\n",
    "    solver = newton_irrestricted(f,None,None,x_0.copy())\n",
    "    x, n_iter,sols_nt = solver.solve()\n",
    "    end = time.time()\n",
    "    data[\"method\"].append(\"newton\")\n",
    "    data[\"time\"].append(end - st)\n",
    "    data[\"iters\"].append(n_iter)\n",
    "    data[\"instance\"].append(i)\n",
    "    data[\"opt_val\"].append(sols_nt[-1])\n",
    "    data[\"opt_point\"].append(x)"
   ]
  },
  {
   "cell_type": "code",
   "execution_count": null,
   "id": "63b2c5fc",
   "metadata": {},
   "outputs": [],
   "source": [
    "df = pd.DataFrame.from_dict(data)\n",
    "df"
   ]
  },
  {
   "cell_type": "markdown",
   "id": "d73d1e3e",
   "metadata": {},
   "source": [
    "## Com restrição (b)"
   ]
  },
  {
   "cell_type": "code",
   "execution_count": 6,
   "id": "4d729975",
   "metadata": {},
   "outputs": [],
   "source": [
    "def generate_instance_restricted(m,n):\n",
    "    P = np.diag([1/n for n in range(1,n+1)])\n",
    "    A = np.random.rand(m, n)\n",
    "    #x_0 = np.random.rand(n)\n",
    "    x_0 = np.linalg.pinv(A)@np.ones(m)\n",
    "    b = A.dot(x_0) + 2*np.random.rand(m)\n",
    "    c = np.ones(n) - 2*np.random.rand(n)\n",
    "    l1 = P@x_0\n",
    "    for i in range(n):\n",
    "        if c[i] - l1[i] < 0:\n",
    "            c[i] = l1[i] + np.random.rand()\n",
    "    def f(x):\n",
    "        l1 = P@x\n",
    "        return c@P@x - np.sum(np.log(c - l1))\n",
    "    return x_0,f,A,b,P,c"
   ]
  },
  {
   "cell_type": "code",
   "execution_count": 7,
   "id": "b7b20593",
   "metadata": {},
   "outputs": [],
   "source": [
    "x_0,f,A,b,P,c = generate_instance_restricted(50,100)"
   ]
  },
  {
   "cell_type": "code",
   "execution_count": 8,
   "id": "3eb2d499",
   "metadata": {},
   "outputs": [
    {
     "data": {
      "text/plain": [
       "77.87638919620933"
      ]
     },
     "execution_count": 8,
     "metadata": {},
     "output_type": "execute_result"
    }
   ],
   "source": [
    "f(x_0)"
   ]
  },
  {
   "cell_type": "code",
   "execution_count": 9,
   "id": "4df428ac",
   "metadata": {},
   "outputs": [],
   "source": [
    "solver = newton_equality_constrained(f,None,None,A,b,x_0=x_0.copy(),autodiff=True)\n",
    "x,nu,i,pri,dual,l = solver.solve()"
   ]
  },
  {
   "cell_type": "code",
   "execution_count": 10,
   "id": "4a3cfae9",
   "metadata": {},
   "outputs": [
    {
     "data": {
      "text/plain": [
       "-77.71034051226398"
      ]
     },
     "execution_count": 10,
     "metadata": {},
     "output_type": "execute_result"
    }
   ],
   "source": [
    "f(x)"
   ]
  },
  {
   "cell_type": "code",
   "execution_count": 11,
   "id": "46d7ea51",
   "metadata": {},
   "outputs": [
    {
     "data": {
      "text/plain": [
       "-77.71034155982964"
      ]
     },
     "execution_count": 11,
     "metadata": {},
     "output_type": "execute_result"
    }
   ],
   "source": [
    "x_cp = cp.Variable(len(x_0))\n",
    "constraints = [A@x_cp == b]\n",
    "obj = cp.Minimize(c@P@x_cp - cp.sum(cp.log(c - P@x_cp)))\n",
    "p = cp.Problem(obj,constraints)\n",
    "p.solve()"
   ]
  },
  {
   "cell_type": "code",
   "execution_count": 12,
   "id": "1f6c811f",
   "metadata": {},
   "outputs": [
    {
     "data": {
      "text/plain": [
       "Text(0, 0.5, '||r||_2')"
      ]
     },
     "execution_count": 12,
     "metadata": {},
     "output_type": "execute_result"
    },
    {
     "data": {
      "image/png": "[encoded data removed]",
      "text/plain": [
       "<Figure size 432x288 with 1 Axes>"
      ]
     },
     "metadata": {
      "needs_background": "light"
     },
     "output_type": "display_data"
    }
   ],
   "source": [
    "plt.plot(pri,label=\"residuo primal\")\n",
    "plt.plot(dual,label=\"residuo dual\")\n",
    "plt.legend()\n",
    "plt.title(\"Residuos ao longo das iterações\")\n",
    "plt.xlabel(\"Iters\")\n",
    "plt.ylabel(\"||r||_2\")"
   ]
  },
  {
   "cell_type": "code",
   "execution_count": 13,
   "id": "2de6e3dc",
   "metadata": {},
   "outputs": [
    {
     "data": {
      "text/plain": [
       "[]"
      ]
     },
     "execution_count": 13,
     "metadata": {},
     "output_type": "execute_result"
    },
    {
     "data": {
      "image/png": "[encoded data removed]",
      "text/plain": [
       "<Figure size 432x288 with 1 Axes>"
      ]
     },
     "metadata": {
      "needs_background": "light"
     },
     "output_type": "display_data"
    }
   ],
   "source": [
    "plt.plot(l,label=\"$\\lambda^2/2$\")\n",
    "plt.semilogy()"
   ]
  },
  {
   "cell_type": "code",
   "execution_count": 10,
   "id": "98bcf9c6",
   "metadata": {},
   "outputs": [],
   "source": [
    "data = dict()\n",
    "data[\"method\"] = []\n",
    "data[\"time\"] = []\n",
    "data[\"iters\"] = []\n",
    "data[\"instance\"] = []\n",
    "data[\"opt_val\"] = []\n",
    "# data[\"opt_point\"] = []\n",
    "for i in range(5):\n",
    "    x_0,f,A,b,P,c = generate_instance_restricted(50,100)\n",
    "    st = time.time()\n",
    "    solver = newton_equality_constrained(f,None,None,A,b,x_0=x_0.copy(),autodiff=True)\n",
    "    x,nu,n_iter,pri,dual,l = solver.solve()\n",
    "    end = time.time()\n",
    "    data[\"method\"].append(\"newton_constrained\")\n",
    "    data[\"time\"].append(end - st)\n",
    "    data[\"iters\"].append(n_iter)\n",
    "    data[\"instance\"].append(i)\n",
    "    data[\"opt_val\"].append(f(x))\n",
    "#     data[\"opt_point\"].append(x)\n",
    "    st = time.time()\n",
    "    x_cp = cp.Variable(len(x_0))\n",
    "    constraints = [A@x_cp == b]\n",
    "    obj = cp.Minimize(c@P@x_cp - cp.sum(cp.log(c - P@x_cp)))\n",
    "    p = cp.Problem(obj,constraints)\n",
    "    p.solve()\n",
    "    end = time.time()\n",
    "    data[\"method\"].append(\"cvxpy\")\n",
    "    data[\"time\"].append(end - st)\n",
    "    data[\"iters\"].append(p.solution.attr[\"num_iters\"])\n",
    "    data[\"instance\"].append(i)\n",
    "    data[\"opt_val\"].append(p.solution.opt_val)\n",
    "#     data[\"opt_point\"].append(x)"
   ]
  },
  {
   "cell_type": "code",
   "execution_count": 11,
   "id": "e6195ee6",
   "metadata": {},
   "outputs": [
    {
     "data": {
      "text/html": [
       "<div>\n",
       "<style scoped>\n",
       "    .dataframe tbody tr th:only-of-type {\n",
       "        vertical-align: middle;\n",
       "    }\n",
       "\n",
       "    .dataframe tbody tr th {\n",
       "        vertical-align: top;\n",
       "    }\n",
       "\n",
       "    .dataframe thead th {\n",
       "        text-align: right;\n",
       "    }\n",
       "</style>\n",
       "<table border=\"1\" class=\"dataframe\">\n",
       "  <thead>\n",
       "    <tr style=\"text-align: right;\">\n",
       "      <th></th>\n",
       "      <th>method</th>\n",
       "      <th>time</th>\n",
       "      <th>iters</th>\n",
       "      <th>instance</th>\n",
       "      <th>opt_val</th>\n",
       "    </tr>\n",
       "  </thead>\n",
       "  <tbody>\n",
       "    <tr>\n",
       "      <th>0</th>\n",
       "      <td>newton_constrained</td>\n",
       "      <td>0.345463</td>\n",
       "      <td>22</td>\n",
       "      <td>0</td>\n",
       "      <td>-59.601122</td>\n",
       "    </tr>\n",
       "    <tr>\n",
       "      <th>1</th>\n",
       "      <td>cvxpy</td>\n",
       "      <td>0.023199</td>\n",
       "      <td>24</td>\n",
       "      <td>0</td>\n",
       "      <td>-59.601127</td>\n",
       "    </tr>\n",
       "    <tr>\n",
       "      <th>2</th>\n",
       "      <td>newton_constrained</td>\n",
       "      <td>0.329807</td>\n",
       "      <td>22</td>\n",
       "      <td>1</td>\n",
       "      <td>42.205720</td>\n",
       "    </tr>\n",
       "    <tr>\n",
       "      <th>3</th>\n",
       "      <td>cvxpy</td>\n",
       "      <td>0.023740</td>\n",
       "      <td>25</td>\n",
       "      <td>1</td>\n",
       "      <td>42.205704</td>\n",
       "    </tr>\n",
       "    <tr>\n",
       "      <th>4</th>\n",
       "      <td>newton_constrained</td>\n",
       "      <td>0.310843</td>\n",
       "      <td>20</td>\n",
       "      <td>2</td>\n",
       "      <td>0.347361</td>\n",
       "    </tr>\n",
       "    <tr>\n",
       "      <th>5</th>\n",
       "      <td>cvxpy</td>\n",
       "      <td>0.028546</td>\n",
       "      <td>27</td>\n",
       "      <td>2</td>\n",
       "      <td>0.347321</td>\n",
       "    </tr>\n",
       "    <tr>\n",
       "      <th>6</th>\n",
       "      <td>newton_constrained</td>\n",
       "      <td>0.350181</td>\n",
       "      <td>23</td>\n",
       "      <td>3</td>\n",
       "      <td>-63.542002</td>\n",
       "    </tr>\n",
       "    <tr>\n",
       "      <th>7</th>\n",
       "      <td>cvxpy</td>\n",
       "      <td>0.022081</td>\n",
       "      <td>22</td>\n",
       "      <td>3</td>\n",
       "      <td>-63.541999</td>\n",
       "    </tr>\n",
       "    <tr>\n",
       "      <th>8</th>\n",
       "      <td>newton_constrained</td>\n",
       "      <td>0.362107</td>\n",
       "      <td>22</td>\n",
       "      <td>4</td>\n",
       "      <td>-71.908318</td>\n",
       "    </tr>\n",
       "    <tr>\n",
       "      <th>9</th>\n",
       "      <td>cvxpy</td>\n",
       "      <td>0.023043</td>\n",
       "      <td>24</td>\n",
       "      <td>4</td>\n",
       "      <td>-71.908316</td>\n",
       "    </tr>\n",
       "  </tbody>\n",
       "</table>\n",
       "</div>"
      ],
      "text/plain": [
       "               method      time  iters  instance    opt_val\n",
       "0  newton_constrained  0.345463     22         0 -59.601122\n",
       "1               cvxpy  0.023199     24         0 -59.601127\n",
       "2  newton_constrained  0.329807     22         1  42.205720\n",
       "3               cvxpy  0.023740     25         1  42.205704\n",
       "4  newton_constrained  0.310843     20         2   0.347361\n",
       "5               cvxpy  0.028546     27         2   0.347321\n",
       "6  newton_constrained  0.350181     23         3 -63.542002\n",
       "7               cvxpy  0.022081     22         3 -63.541999\n",
       "8  newton_constrained  0.362107     22         4 -71.908318\n",
       "9               cvxpy  0.023043     24         4 -71.908316"
      ]
     },
     "execution_count": 11,
     "metadata": {},
     "output_type": "execute_result"
    }
   ],
   "source": [
    "df = pd.DataFrame.from_dict(data)\n",
    "df"
   ]
  },
  {
   "cell_type": "markdown",
   "id": "df06fddd",
   "metadata": {},
   "source": [
    "## Simplex vs pontos interiores"
   ]
  },
  {
   "cell_type": "code",
   "execution_count": 3,
   "id": "dc4f801d",
   "metadata": {},
   "outputs": [],
   "source": [
    "def to_simplex(A,b,c):\n",
    "    A_simplex = np.block([ [A,np.zeros(A.shape)],\n",
    "                           [np.diag(-1*np.ones(A.shape[1])),np.eye(A.shape[1])]\n",
    "                         ])\n",
    "    b_simplex = np.hstack([b,np.zeros(A.shape[1])])\n",
    "    c_simplex = np.hstack([c,np.zeros(A.shape[1])])\n",
    "    return A_simplex, b_simplex, c_simplex"
   ]
  },
  {
   "cell_type": "code",
   "execution_count": 4,
   "id": "4dcd73ff",
   "metadata": {},
   "outputs": [],
   "source": [
    "def gen_LP_instance(m,n):\n",
    "    A = np.random.rand(m,n)\n",
    "    x = np.random.rand(n)\n",
    "    b = A@x\n",
    "    c = np.random.rand(n)\n",
    "    return A,b,c"
   ]
  },
  {
   "cell_type": "code",
   "execution_count": 15,
   "id": "3e2ef087",
   "metadata": {},
   "outputs": [
    {
     "name": "stderr",
     "output_type": "stream",
     "text": [
      "/home/dell/anaconda3/lib/python3.9/site-packages/autograd/tracer.py:48: RuntimeWarning: invalid value encountered in log\n",
      "  return f_raw(*args, **kwargs)\n"
     ]
    },
    {
     "name": "stdout",
     "output_type": "stream",
     "text": [
      "Max infeasibility:  -0.022555591178297196\n",
      "Begins phase two\n"
     ]
    }
   ],
   "source": [
    "m,n = 50,100\n",
    "A,b,c = gen_LP_instance(m,n)\n",
    "def f_0(x):\n",
    "    return c@x\n",
    "fs = [f_0]\n",
    "for i in range(n):\n",
    "    def f_i(x,i=i):\n",
    "        return -x[i]\n",
    "    fs.append(f_i)\n",
    "# def f_i(x):\n",
    "#     return np.array\n",
    "x_0 = np.random.rand(n)\n",
    "solver = interior_points(fs,A.copy(),b.copy(),x_0.copy())\n",
    "x,nu,vals,nt_steps,l  = solver.solve()"
   ]
  },
  {
   "cell_type": "code",
   "execution_count": 5,
   "id": "ed138350",
   "metadata": {},
   "outputs": [
    {
     "data": {
      "text/plain": [
       "15.04490192059371"
      ]
     },
     "execution_count": 5,
     "metadata": {},
     "output_type": "execute_result"
    }
   ],
   "source": [
    "c@x"
   ]
  },
  {
   "cell_type": "code",
   "execution_count": 6,
   "id": "8f4ccb19",
   "metadata": {},
   "outputs": [
    {
     "data": {
      "text/plain": [
       "     con: array([-1.88694855e-08, -1.97160936e-08, -2.14065139e-08, -1.92873593e-08,\n",
       "       -1.96089189e-08, -1.89866647e-08, -1.85328801e-08, -2.43128717e-08,\n",
       "       -2.06038493e-08, -2.27601689e-08, -1.91157916e-08, -1.82800619e-08,\n",
       "       -1.99513721e-08, -1.85980724e-08, -1.89420462e-08, -1.80119386e-08,\n",
       "       -1.92032701e-08, -1.99972661e-08, -1.97362624e-08, -1.86343634e-08,\n",
       "       -1.99855599e-08, -1.90797849e-08, -1.98609165e-08, -1.85581222e-08,\n",
       "       -1.85567828e-08, -2.02680823e-08, -1.99441317e-08, -1.97203285e-08,\n",
       "       -1.71689365e-08, -1.97834531e-08, -1.99113899e-08, -1.90731129e-08,\n",
       "       -2.08174100e-08, -2.03681232e-08, -1.82101658e-08, -1.93839007e-08,\n",
       "       -1.88455829e-08, -1.76673822e-08, -1.83178415e-08, -2.02831281e-08,\n",
       "       -1.77839183e-08, -2.02412878e-08, -1.71466503e-08, -1.99141077e-08,\n",
       "       -1.96663557e-08, -1.95457055e-08, -1.80868582e-08, -1.76716561e-08,\n",
       "       -1.92059204e-08, -1.81203710e-08])\n",
       "     fun: 15.039851824062943\n",
       " message: 'Optimization terminated successfully.'\n",
       "     nit: 8\n",
       "   slack: array([], dtype=float64)\n",
       "  status: 0\n",
       " success: True\n",
       "       x: array([1.24079982e-01, 8.24865190e-10, 1.04988961e+00, 1.56221225e-01,\n",
       "       1.10296379e-09, 1.50503690e-09, 9.26367389e-09, 9.73934654e-01,\n",
       "       2.86572782e-09, 3.66328909e-09, 1.75524718e-09, 7.21971823e-10,\n",
       "       1.67681250e+00, 1.24445952e+00, 2.25025854e-01, 2.52305989e-01,\n",
       "       1.77356287e-09, 5.44339069e-01, 7.83464053e-10, 7.73639469e-10,\n",
       "       4.47049260e-01, 7.89554789e-10, 1.09593045e+00, 6.26427786e-01,\n",
       "       5.95380791e-01, 9.96144007e-10, 1.23077345e-09, 2.05293965e-01,\n",
       "       8.52664118e-01, 1.77771899e+00, 2.44775942e-09, 3.10433368e-09,\n",
       "       4.62044276e-10, 1.10893512e-01, 1.22975492e+00, 7.34128187e-01,\n",
       "       1.79404165e+00, 1.41152033e-09, 2.62220463e+00, 2.81849136e+00,\n",
       "       1.47776547e-09, 8.65204243e-01, 1.18242698e+00, 1.07311974e-09,\n",
       "       9.17748464e-10, 1.72250105e-09, 2.53090796e-10, 1.25622594e-09,\n",
       "       8.19376298e-01, 1.01748570e-09, 3.95794222e-01, 2.39038305e-09,\n",
       "       1.17027212e+00, 5.12539582e-01, 2.86836009e-01, 2.88993308e-09,\n",
       "       1.64812687e-09, 3.33498109e-09, 3.54460400e-10, 6.62126508e-01,\n",
       "       3.27469334e-10, 1.64950558e-09, 5.23062000e-01, 2.02446675e-09,\n",
       "       1.83792612e+00, 1.24939785e+00, 9.10222967e-10, 9.71523453e-01,\n",
       "       5.72923349e-10, 6.51829122e-09, 7.15360913e-01, 7.33164071e-10,\n",
       "       3.48270495e-09, 9.40406535e-10, 5.22310569e-09, 5.11303832e-10,\n",
       "       1.01072925e-01, 2.24837331e-01, 8.69405250e-10, 8.26084966e-01,\n",
       "       6.08605404e-10, 5.91651775e-10, 5.44651720e-10, 5.44757618e-01,\n",
       "       4.21431762e-01, 8.69927542e-01, 1.53713309e+00, 3.32226704e-01,\n",
       "       4.14953973e-01, 1.17371681e+00, 1.02364089e-09, 1.35641824e-07,\n",
       "       1.07391071e+00, 8.68931313e-10, 5.79581895e-09, 4.16394369e-01,\n",
       "       1.76237585e+00, 2.13571657e+00, 5.09803854e-01, 1.03177825e-09])"
      ]
     },
     "execution_count": 6,
     "metadata": {},
     "output_type": "execute_result"
    }
   ],
   "source": [
    "# x_cp = cp.Variable(len(x))\n",
    "# constraints = [A@x_cp == b]\n",
    "# obj = cp.Minimize(c@x_cp)\n",
    "# p = cp.Problem(obj,constraints)\n",
    "# p.solve(verbose=True)\n",
    "linprog(c,A_eq=A,b_eq=b)"
   ]
  },
  {
   "cell_type": "code",
   "execution_count": 7,
   "id": "fe099bc9",
   "metadata": {},
   "outputs": [
    {
     "name": "stdout",
     "output_type": "stream",
     "text": [
      "Não há solução\n",
      "Encontrou uma base\n"
     ]
    }
   ],
   "source": [
    "A_s,b_s,c_s = to_simplex(A,b,c)\n",
    "solver = LP(A_s,b_s,c_s)\n",
    "x,opt_val,simplex_vals = solver.solve()"
   ]
  },
  {
   "cell_type": "code",
   "execution_count": 8,
   "id": "0d2012fd",
   "metadata": {},
   "outputs": [
    {
     "data": {
      "text/plain": [
       "15.039851790079656"
      ]
     },
     "execution_count": 8,
     "metadata": {},
     "output_type": "execute_result"
    }
   ],
   "source": [
    "c_s@x"
   ]
  },
  {
   "cell_type": "code",
   "execution_count": 17,
   "id": "a356c1dd",
   "metadata": {},
   "outputs": [
    {
     "data": {
      "text/plain": [
       "Text(0, 0.5, 'Duality gap')"
      ]
     },
     "execution_count": 17,
     "metadata": {},
     "output_type": "execute_result"
    },
    {
     "data": {
      "image/png": "[encoded data removed]",
      "text/plain": [
       "<Figure size 432x288 with 1 Axes>"
      ]
     },
     "metadata": {
      "needs_background": "light"
     },
     "output_type": "display_data"
    }
   ],
   "source": [
    "#simplex_ = np.abs([v - simplex_vals[-1] for v in simplex_vals])            \n",
    "plt.step(steps,np.log(vals),label=\"Pontos Interiores\")\n",
    "#plt.stairs(values=np.log(simplex_),label=\"Simplex\")\n",
    "plt.legend()\n",
    "plt.xlabel(\"Iters\")\n",
    "plt.ylabel(\"Duality gap\")"
   ]
  },
  {
   "cell_type": "code",
   "execution_count": 10,
   "id": "13953f25",
   "metadata": {},
   "outputs": [
    {
     "data": {
      "text/plain": [
       "Text(0, 0.5, 'Optimality gap')"
      ]
     },
     "execution_count": 10,
     "metadata": {},
     "output_type": "execute_result"
    },
    {
     "data": {
      "image/png": "[encoded data removed]",
      "text/plain": [
       "<Figure size 432x288 with 1 Axes>"
      ]
     },
     "metadata": {
      "needs_background": "light"
     },
     "output_type": "display_data"
    }
   ],
   "source": [
    "#ip = np.abs([v - vals[-1] for v in vals])\n",
    "simplex_ = np.abs([v - simplex_vals[-1] for v in simplex_vals])            \n",
    "#plt.stairs(values=np.log(ip),label=\"Pontos Interiores\")\n",
    "plt.stairs(values=np.log(simplex_),label=\"Simplex\")\n",
    "plt.legend()\n",
    "plt.xlabel(\"Iters\")\n",
    "plt.ylabel(\"Optimality gap\")"
   ]
  },
  {
   "cell_type": "code",
   "execution_count": 54,
   "id": "47b1ed21",
   "metadata": {},
   "outputs": [
    {
     "name": "stderr",
     "output_type": "stream",
     "text": [
      "/home/dell/anaconda3/lib/python3.9/site-packages/autograd/tracer.py:48: RuntimeWarning: invalid value encountered in log\n",
      "  return f_raw(*args, **kwargs)\n"
     ]
    },
    {
     "name": "stdout",
     "output_type": "stream",
     "text": [
      "Max infeasibility:  -0.036616322643236\n",
      "Begins phase two\n"
     ]
    },
    {
     "ename": "KeyboardInterrupt",
     "evalue": "",
     "output_type": "error",
     "traceback": [
      "\u001b[0;31m---------------------------------------------------------------------------\u001b[0m",
      "\u001b[0;31mKeyboardInterrupt\u001b[0m                         Traceback (most recent call last)",
      "\u001b[0;32m/tmp/ipykernel_144657/1085026004.py\u001b[0m in \u001b[0;36m<module>\u001b[0;34m\u001b[0m\n\u001b[1;32m     21\u001b[0m     \u001b[0mst\u001b[0m \u001b[0;34m=\u001b[0m \u001b[0mtime\u001b[0m\u001b[0;34m.\u001b[0m\u001b[0mtime\u001b[0m\u001b[0;34m(\u001b[0m\u001b[0;34m)\u001b[0m\u001b[0;34m\u001b[0m\u001b[0;34m\u001b[0m\u001b[0m\n\u001b[1;32m     22\u001b[0m     \u001b[0msolver\u001b[0m \u001b[0;34m=\u001b[0m \u001b[0minterior_points\u001b[0m\u001b[0;34m(\u001b[0m\u001b[0mfs\u001b[0m\u001b[0;34m,\u001b[0m\u001b[0mA\u001b[0m\u001b[0;34m.\u001b[0m\u001b[0mcopy\u001b[0m\u001b[0;34m(\u001b[0m\u001b[0;34m)\u001b[0m\u001b[0;34m,\u001b[0m\u001b[0mb\u001b[0m\u001b[0;34m.\u001b[0m\u001b[0mcopy\u001b[0m\u001b[0;34m(\u001b[0m\u001b[0;34m)\u001b[0m\u001b[0;34m,\u001b[0m\u001b[0mx_0\u001b[0m\u001b[0;34m.\u001b[0m\u001b[0mcopy\u001b[0m\u001b[0;34m(\u001b[0m\u001b[0;34m)\u001b[0m\u001b[0;34m)\u001b[0m\u001b[0;34m\u001b[0m\u001b[0;34m\u001b[0m\u001b[0m\n\u001b[0;32m---> 23\u001b[0;31m     \u001b[0mx\u001b[0m\u001b[0;34m,\u001b[0m\u001b[0mnu\u001b[0m\u001b[0;34m,\u001b[0m\u001b[0mvals\u001b[0m\u001b[0;34m,\u001b[0m\u001b[0m_\u001b[0m\u001b[0;34m,\u001b[0m\u001b[0m_\u001b[0m \u001b[0;34m=\u001b[0m \u001b[0msolver\u001b[0m\u001b[0;34m.\u001b[0m\u001b[0msolve\u001b[0m\u001b[0;34m(\u001b[0m\u001b[0;34m)\u001b[0m\u001b[0;34m\u001b[0m\u001b[0;34m\u001b[0m\u001b[0m\n\u001b[0m\u001b[1;32m     24\u001b[0m     \u001b[0mend\u001b[0m \u001b[0;34m=\u001b[0m \u001b[0mtime\u001b[0m\u001b[0;34m.\u001b[0m\u001b[0mtime\u001b[0m\u001b[0;34m(\u001b[0m\u001b[0;34m)\u001b[0m\u001b[0;34m\u001b[0m\u001b[0;34m\u001b[0m\u001b[0m\n\u001b[1;32m     25\u001b[0m     \u001b[0mdata\u001b[0m\u001b[0;34m[\u001b[0m\u001b[0;34m\"method\"\u001b[0m\u001b[0;34m]\u001b[0m\u001b[0;34m.\u001b[0m\u001b[0mappend\u001b[0m\u001b[0;34m(\u001b[0m\u001b[0;34m\"pontos interiores\"\u001b[0m\u001b[0;34m)\u001b[0m\u001b[0;34m\u001b[0m\u001b[0;34m\u001b[0m\u001b[0m\n",
      "\u001b[0;32m~/felipe/UFRJ/Mestrado/TopEspOtm/inequality_constrained3.py\u001b[0m in \u001b[0;36msolve\u001b[0;34m(self)\u001b[0m\n\u001b[1;32m    132\u001b[0m             \u001b[0mx\u001b[0m \u001b[0;34m=\u001b[0m \u001b[0mself\u001b[0m\u001b[0;34m.\u001b[0m\u001b[0mphase_one_sum\u001b[0m\u001b[0;34m(\u001b[0m\u001b[0;34m)\u001b[0m\u001b[0;34m\u001b[0m\u001b[0;34m\u001b[0m\u001b[0m\n\u001b[1;32m    133\u001b[0m         \u001b[0mprint\u001b[0m\u001b[0;34m(\u001b[0m\u001b[0;34m\"Begins phase two\"\u001b[0m\u001b[0;34m)\u001b[0m\u001b[0;34m\u001b[0m\u001b[0;34m\u001b[0m\u001b[0m\n\u001b[0;32m--> 134\u001b[0;31m         \u001b[0mx\u001b[0m\u001b[0;34m,\u001b[0m\u001b[0mnu\u001b[0m\u001b[0;34m,\u001b[0m\u001b[0mvals\u001b[0m\u001b[0;34m,\u001b[0m\u001b[0mnt_steps\u001b[0m\u001b[0;34m,\u001b[0m\u001b[0mlambdas_sqr\u001b[0m \u001b[0;34m=\u001b[0m \u001b[0mself\u001b[0m\u001b[0;34m.\u001b[0m\u001b[0mphase_two\u001b[0m\u001b[0;34m(\u001b[0m\u001b[0mx\u001b[0m\u001b[0;34m)\u001b[0m\u001b[0;34m\u001b[0m\u001b[0;34m\u001b[0m\u001b[0m\n\u001b[0m\u001b[1;32m    135\u001b[0m         \u001b[0;31m## checa se a solucao é boa o suficiente\u001b[0m\u001b[0;34m\u001b[0m\u001b[0;34m\u001b[0m\u001b[0m\n\u001b[1;32m    136\u001b[0m         \u001b[0;32mreturn\u001b[0m \u001b[0mx\u001b[0m\u001b[0;34m,\u001b[0m\u001b[0mnu\u001b[0m\u001b[0;34m,\u001b[0m\u001b[0mvals\u001b[0m\u001b[0;34m,\u001b[0m\u001b[0mnt_steps\u001b[0m\u001b[0;34m,\u001b[0m\u001b[0mlambdas_sqr\u001b[0m\u001b[0;34m\u001b[0m\u001b[0;34m\u001b[0m\u001b[0m\n",
      "\u001b[0;32m~/felipe/UFRJ/Mestrado/TopEspOtm/inequality_constrained3.py\u001b[0m in \u001b[0;36mphase_two\u001b[0;34m(self, x_0)\u001b[0m\n\u001b[1;32m    113\u001b[0m                                                 \u001b[0mx\u001b[0m\u001b[0;34m.\u001b[0m\u001b[0mcopy\u001b[0m\u001b[0;34m(\u001b[0m\u001b[0;34m)\u001b[0m\u001b[0;34m\u001b[0m\u001b[0;34m\u001b[0m\u001b[0m\n\u001b[1;32m    114\u001b[0m                                                )\n\u001b[0;32m--> 115\u001b[0;31m             \u001b[0mx\u001b[0m\u001b[0;34m,\u001b[0m \u001b[0mnu\u001b[0m\u001b[0;34m,\u001b[0m\u001b[0mi\u001b[0m\u001b[0;34m,\u001b[0m\u001b[0m_\u001b[0m\u001b[0;34m,\u001b[0m\u001b[0m_\u001b[0m\u001b[0;34m,\u001b[0m\u001b[0mlambda_sqr\u001b[0m \u001b[0;34m=\u001b[0m \u001b[0msolver\u001b[0m\u001b[0;34m.\u001b[0m\u001b[0msolve\u001b[0m\u001b[0;34m(\u001b[0m\u001b[0;34m)\u001b[0m\u001b[0;34m\u001b[0m\u001b[0;34m\u001b[0m\u001b[0m\n\u001b[0m\u001b[1;32m    116\u001b[0m             \u001b[0mlambda_sqrs\u001b[0m\u001b[0;34m.\u001b[0m\u001b[0mextend\u001b[0m\u001b[0;34m(\u001b[0m\u001b[0mlambda_sqr\u001b[0m\u001b[0;34m)\u001b[0m\u001b[0;34m\u001b[0m\u001b[0;34m\u001b[0m\u001b[0m\n\u001b[1;32m    117\u001b[0m             \u001b[0mvals\u001b[0m\u001b[0;34m.\u001b[0m\u001b[0mappend\u001b[0m\u001b[0;34m(\u001b[0m\u001b[0mself\u001b[0m\u001b[0;34m.\u001b[0m\u001b[0mm\u001b[0m\u001b[0;34m/\u001b[0m\u001b[0mt\u001b[0m\u001b[0;34m)\u001b[0m\u001b[0;34m\u001b[0m\u001b[0;34m\u001b[0m\u001b[0m\n",
      "\u001b[0;32m~/felipe/UFRJ/Mestrado/TopEspOtm/equality_constrained.py\u001b[0m in \u001b[0;36msolve\u001b[0;34m(self)\u001b[0m\n\u001b[1;32m     65\u001b[0m         \u001b[0mlambda_sqr\u001b[0m \u001b[0;34m=\u001b[0m \u001b[0;34m[\u001b[0m\u001b[0;34m]\u001b[0m\u001b[0;34m\u001b[0m\u001b[0;34m\u001b[0m\u001b[0m\n\u001b[1;32m     66\u001b[0m         \u001b[0;32mwhile\u001b[0m \u001b[0mself\u001b[0m\u001b[0;34m.\u001b[0m\u001b[0mstop_condition\u001b[0m\u001b[0;34m(\u001b[0m\u001b[0mx\u001b[0m\u001b[0;34m,\u001b[0m\u001b[0mnu\u001b[0m\u001b[0;34m)\u001b[0m\u001b[0;34m:\u001b[0m\u001b[0;34m\u001b[0m\u001b[0;34m\u001b[0m\u001b[0m\n\u001b[0;32m---> 67\u001b[0;31m             \u001b[0mdelta_x\u001b[0m\u001b[0;34m,\u001b[0m \u001b[0mdelta_nu\u001b[0m \u001b[0;34m=\u001b[0m \u001b[0mself\u001b[0m\u001b[0;34m.\u001b[0m\u001b[0mnt_step\u001b[0m\u001b[0;34m(\u001b[0m\u001b[0mx\u001b[0m\u001b[0;34m,\u001b[0m\u001b[0mnu\u001b[0m\u001b[0;34m)\u001b[0m\u001b[0;34m\u001b[0m\u001b[0;34m\u001b[0m\u001b[0m\n\u001b[0m\u001b[1;32m     68\u001b[0m             \u001b[0mt\u001b[0m \u001b[0;34m=\u001b[0m \u001b[0mself\u001b[0m\u001b[0;34m.\u001b[0m\u001b[0mline_search\u001b[0m\u001b[0;34m(\u001b[0m\u001b[0mx\u001b[0m\u001b[0;34m,\u001b[0m\u001b[0mdelta_x\u001b[0m\u001b[0;34m,\u001b[0m\u001b[0mnu\u001b[0m\u001b[0;34m,\u001b[0m\u001b[0mdelta_nu\u001b[0m\u001b[0;34m)\u001b[0m\u001b[0;34m\u001b[0m\u001b[0;34m\u001b[0m\u001b[0m\n\u001b[1;32m     69\u001b[0m             \u001b[0mx\u001b[0m \u001b[0;34m+=\u001b[0m \u001b[0mt\u001b[0m\u001b[0;34m*\u001b[0m\u001b[0mdelta_x\u001b[0m\u001b[0;34m\u001b[0m\u001b[0;34m\u001b[0m\u001b[0m\n",
      "\u001b[0;32m~/felipe/UFRJ/Mestrado/TopEspOtm/equality_constrained.py\u001b[0m in \u001b[0;36mnewton_step\u001b[0;34m(x, nu)\u001b[0m\n\u001b[1;32m     32\u001b[0m     \u001b[0;32mdef\u001b[0m \u001b[0mnewton_step\u001b[0m\u001b[0;34m(\u001b[0m\u001b[0mx\u001b[0m\u001b[0;34m,\u001b[0m\u001b[0mnu\u001b[0m\u001b[0;34m)\u001b[0m\u001b[0;34m:\u001b[0m\u001b[0;34m\u001b[0m\u001b[0;34m\u001b[0m\u001b[0m\n\u001b[1;32m     33\u001b[0m         KKT = np.vstack([\n\u001b[0;32m---> 34\u001b[0;31m                     \u001b[0mnp\u001b[0m\u001b[0;34m.\u001b[0m\u001b[0mhstack\u001b[0m\u001b[0;34m(\u001b[0m\u001b[0;34m[\u001b[0m\u001b[0mhess\u001b[0m\u001b[0;34m(\u001b[0m\u001b[0mx\u001b[0m\u001b[0;34m)\u001b[0m\u001b[0;34m,\u001b[0m \u001b[0mA\u001b[0m\u001b[0;34m.\u001b[0m\u001b[0mT\u001b[0m\u001b[0;34m]\u001b[0m\u001b[0;34m)\u001b[0m\u001b[0;34m,\u001b[0m\u001b[0;34m\u001b[0m\u001b[0;34m\u001b[0m\u001b[0m\n\u001b[0m\u001b[1;32m     35\u001b[0m                     \u001b[0mnp\u001b[0m\u001b[0;34m.\u001b[0m\u001b[0mhstack\u001b[0m\u001b[0;34m(\u001b[0m\u001b[0;34m[\u001b[0m\u001b[0mA\u001b[0m\u001b[0;34m,\u001b[0m \u001b[0mnp\u001b[0m\u001b[0;34m.\u001b[0m\u001b[0mzeros\u001b[0m\u001b[0;34m(\u001b[0m\u001b[0;34m(\u001b[0m\u001b[0mA\u001b[0m\u001b[0;34m.\u001b[0m\u001b[0mshape\u001b[0m\u001b[0;34m[\u001b[0m\u001b[0;36m0\u001b[0m\u001b[0;34m]\u001b[0m\u001b[0;34m,\u001b[0m\u001b[0mA\u001b[0m\u001b[0;34m.\u001b[0m\u001b[0mshape\u001b[0m\u001b[0;34m[\u001b[0m\u001b[0;36m0\u001b[0m\u001b[0;34m]\u001b[0m\u001b[0;34m)\u001b[0m\u001b[0;34m)\u001b[0m\u001b[0;34m]\u001b[0m\u001b[0;34m)\u001b[0m\u001b[0;34m\u001b[0m\u001b[0;34m\u001b[0m\u001b[0m\n\u001b[1;32m     36\u001b[0m                         ])\n",
      "\u001b[0;32m~/anaconda3/lib/python3.9/site-packages/autograd/wrap_util.py\u001b[0m in \u001b[0;36mnary_f\u001b[0;34m(*args, **kwargs)\u001b[0m\n\u001b[1;32m     18\u001b[0m             \u001b[0;32melse\u001b[0m\u001b[0;34m:\u001b[0m\u001b[0;34m\u001b[0m\u001b[0;34m\u001b[0m\u001b[0m\n\u001b[1;32m     19\u001b[0m                 \u001b[0mx\u001b[0m \u001b[0;34m=\u001b[0m \u001b[0mtuple\u001b[0m\u001b[0;34m(\u001b[0m\u001b[0margs\u001b[0m\u001b[0;34m[\u001b[0m\u001b[0mi\u001b[0m\u001b[0;34m]\u001b[0m \u001b[0;32mfor\u001b[0m \u001b[0mi\u001b[0m \u001b[0;32min\u001b[0m \u001b[0margnum\u001b[0m\u001b[0;34m)\u001b[0m\u001b[0;34m\u001b[0m\u001b[0;34m\u001b[0m\u001b[0m\n\u001b[0;32m---> 20\u001b[0;31m             \u001b[0;32mreturn\u001b[0m \u001b[0munary_operator\u001b[0m\u001b[0;34m(\u001b[0m\u001b[0munary_f\u001b[0m\u001b[0;34m,\u001b[0m \u001b[0mx\u001b[0m\u001b[0;34m,\u001b[0m \u001b[0;34m*\u001b[0m\u001b[0mnary_op_args\u001b[0m\u001b[0;34m,\u001b[0m \u001b[0;34m**\u001b[0m\u001b[0mnary_op_kwargs\u001b[0m\u001b[0;34m)\u001b[0m\u001b[0;34m\u001b[0m\u001b[0;34m\u001b[0m\u001b[0m\n\u001b[0m\u001b[1;32m     21\u001b[0m         \u001b[0;32mreturn\u001b[0m \u001b[0mnary_f\u001b[0m\u001b[0;34m\u001b[0m\u001b[0;34m\u001b[0m\u001b[0m\n\u001b[1;32m     22\u001b[0m     \u001b[0;32mreturn\u001b[0m \u001b[0mnary_operator\u001b[0m\u001b[0;34m\u001b[0m\u001b[0;34m\u001b[0m\u001b[0m\n",
      "\u001b[0;32m~/anaconda3/lib/python3.9/site-packages/autograd/differential_operators.py\u001b[0m in \u001b[0;36mjacobian\u001b[0;34m(fun, x)\u001b[0m\n\u001b[1;32m     59\u001b[0m     \u001b[0mjacobian_shape\u001b[0m \u001b[0;34m=\u001b[0m \u001b[0mans_vspace\u001b[0m\u001b[0;34m.\u001b[0m\u001b[0mshape\u001b[0m \u001b[0;34m+\u001b[0m \u001b[0mvspace\u001b[0m\u001b[0;34m(\u001b[0m\u001b[0mx\u001b[0m\u001b[0;34m)\u001b[0m\u001b[0;34m.\u001b[0m\u001b[0mshape\u001b[0m\u001b[0;34m\u001b[0m\u001b[0;34m\u001b[0m\u001b[0m\n\u001b[1;32m     60\u001b[0m     \u001b[0mgrads\u001b[0m \u001b[0;34m=\u001b[0m \u001b[0mmap\u001b[0m\u001b[0;34m(\u001b[0m\u001b[0mvjp\u001b[0m\u001b[0;34m,\u001b[0m \u001b[0mans_vspace\u001b[0m\u001b[0;34m.\u001b[0m\u001b[0mstandard_basis\u001b[0m\u001b[0;34m(\u001b[0m\u001b[0;34m)\u001b[0m\u001b[0;34m)\u001b[0m\u001b[0;34m\u001b[0m\u001b[0;34m\u001b[0m\u001b[0m\n\u001b[0;32m---> 61\u001b[0;31m     \u001b[0;32mreturn\u001b[0m \u001b[0mnp\u001b[0m\u001b[0;34m.\u001b[0m\u001b[0mreshape\u001b[0m\u001b[0;34m(\u001b[0m\u001b[0mnp\u001b[0m\u001b[0;34m.\u001b[0m\u001b[0mstack\u001b[0m\u001b[0;34m(\u001b[0m\u001b[0mgrads\u001b[0m\u001b[0;34m)\u001b[0m\u001b[0;34m,\u001b[0m \u001b[0mjacobian_shape\u001b[0m\u001b[0;34m)\u001b[0m\u001b[0;34m\u001b[0m\u001b[0;34m\u001b[0m\u001b[0m\n\u001b[0m\u001b[1;32m     62\u001b[0m \u001b[0;34m\u001b[0m\u001b[0m\n\u001b[1;32m     63\u001b[0m \u001b[0;34m@\u001b[0m\u001b[0munary_to_nary\u001b[0m\u001b[0;34m\u001b[0m\u001b[0;34m\u001b[0m\u001b[0m\n",
      "\u001b[0;32m~/anaconda3/lib/python3.9/site-packages/autograd/numpy/numpy_wrapper.py\u001b[0m in \u001b[0;36mstack\u001b[0;34m(arrays, axis)\u001b[0m\n\u001b[1;32m     86\u001b[0m     \u001b[0;31m# primitives defined in this file\u001b[0m\u001b[0;34m\u001b[0m\u001b[0;34m\u001b[0m\u001b[0m\n\u001b[1;32m     87\u001b[0m \u001b[0;34m\u001b[0m\u001b[0m\n\u001b[0;32m---> 88\u001b[0;31m     \u001b[0marrays\u001b[0m \u001b[0;34m=\u001b[0m \u001b[0;34m[\u001b[0m\u001b[0marray\u001b[0m\u001b[0;34m(\u001b[0m\u001b[0marr\u001b[0m\u001b[0;34m)\u001b[0m \u001b[0;32mfor\u001b[0m \u001b[0marr\u001b[0m \u001b[0;32min\u001b[0m \u001b[0marrays\u001b[0m\u001b[0;34m]\u001b[0m\u001b[0;34m\u001b[0m\u001b[0;34m\u001b[0m\u001b[0m\n\u001b[0m\u001b[1;32m     89\u001b[0m     \u001b[0;32mif\u001b[0m \u001b[0;32mnot\u001b[0m \u001b[0marrays\u001b[0m\u001b[0;34m:\u001b[0m\u001b[0;34m\u001b[0m\u001b[0;34m\u001b[0m\u001b[0m\n\u001b[1;32m     90\u001b[0m         \u001b[0;32mraise\u001b[0m \u001b[0mValueError\u001b[0m\u001b[0;34m(\u001b[0m\u001b[0;34m'need at least one array to stack'\u001b[0m\u001b[0;34m)\u001b[0m\u001b[0;34m\u001b[0m\u001b[0;34m\u001b[0m\u001b[0m\n",
      "\u001b[0;32m~/anaconda3/lib/python3.9/site-packages/autograd/numpy/numpy_wrapper.py\u001b[0m in \u001b[0;36m<listcomp>\u001b[0;34m(.0)\u001b[0m\n\u001b[1;32m     86\u001b[0m     \u001b[0;31m# primitives defined in this file\u001b[0m\u001b[0;34m\u001b[0m\u001b[0;34m\u001b[0m\u001b[0m\n\u001b[1;32m     87\u001b[0m \u001b[0;34m\u001b[0m\u001b[0m\n\u001b[0;32m---> 88\u001b[0;31m     \u001b[0marrays\u001b[0m \u001b[0;34m=\u001b[0m \u001b[0;34m[\u001b[0m\u001b[0marray\u001b[0m\u001b[0;34m(\u001b[0m\u001b[0marr\u001b[0m\u001b[0;34m)\u001b[0m \u001b[0;32mfor\u001b[0m \u001b[0marr\u001b[0m \u001b[0;32min\u001b[0m \u001b[0marrays\u001b[0m\u001b[0;34m]\u001b[0m\u001b[0;34m\u001b[0m\u001b[0;34m\u001b[0m\u001b[0m\n\u001b[0m\u001b[1;32m     89\u001b[0m     \u001b[0;32mif\u001b[0m \u001b[0;32mnot\u001b[0m \u001b[0marrays\u001b[0m\u001b[0;34m:\u001b[0m\u001b[0;34m\u001b[0m\u001b[0;34m\u001b[0m\u001b[0m\n\u001b[1;32m     90\u001b[0m         \u001b[0;32mraise\u001b[0m \u001b[0mValueError\u001b[0m\u001b[0;34m(\u001b[0m\u001b[0;34m'need at least one array to stack'\u001b[0m\u001b[0;34m)\u001b[0m\u001b[0;34m\u001b[0m\u001b[0;34m\u001b[0m\u001b[0m\n",
      "\u001b[0;32m~/anaconda3/lib/python3.9/site-packages/autograd/core.py\u001b[0m in \u001b[0;36mvjp\u001b[0;34m(g)\u001b[0m\n\u001b[1;32m     12\u001b[0m         \u001b[0;32mdef\u001b[0m \u001b[0mvjp\u001b[0m\u001b[0;34m(\u001b[0m\u001b[0mg\u001b[0m\u001b[0;34m)\u001b[0m\u001b[0;34m:\u001b[0m \u001b[0;32mreturn\u001b[0m \u001b[0mvspace\u001b[0m\u001b[0;34m(\u001b[0m\u001b[0mx\u001b[0m\u001b[0;34m)\u001b[0m\u001b[0;34m.\u001b[0m\u001b[0mzeros\u001b[0m\u001b[0;34m(\u001b[0m\u001b[0;34m)\u001b[0m\u001b[0;34m\u001b[0m\u001b[0;34m\u001b[0m\u001b[0m\n\u001b[1;32m     13\u001b[0m     \u001b[0;32melse\u001b[0m\u001b[0;34m:\u001b[0m\u001b[0;34m\u001b[0m\u001b[0;34m\u001b[0m\u001b[0m\n\u001b[0;32m---> 14\u001b[0;31m         \u001b[0;32mdef\u001b[0m \u001b[0mvjp\u001b[0m\u001b[0;34m(\u001b[0m\u001b[0mg\u001b[0m\u001b[0;34m)\u001b[0m\u001b[0;34m:\u001b[0m \u001b[0;32mreturn\u001b[0m \u001b[0mbackward_pass\u001b[0m\u001b[0;34m(\u001b[0m\u001b[0mg\u001b[0m\u001b[0;34m,\u001b[0m \u001b[0mend_node\u001b[0m\u001b[0;34m)\u001b[0m\u001b[0;34m\u001b[0m\u001b[0;34m\u001b[0m\u001b[0m\n\u001b[0m\u001b[1;32m     15\u001b[0m     \u001b[0;32mreturn\u001b[0m \u001b[0mvjp\u001b[0m\u001b[0;34m,\u001b[0m \u001b[0mend_value\u001b[0m\u001b[0;34m\u001b[0m\u001b[0;34m\u001b[0m\u001b[0m\n\u001b[1;32m     16\u001b[0m \u001b[0;34m\u001b[0m\u001b[0m\n",
      "\u001b[0;32m~/anaconda3/lib/python3.9/site-packages/autograd/core.py\u001b[0m in \u001b[0;36mbackward_pass\u001b[0;34m(g, end_node)\u001b[0m\n\u001b[1;32m     19\u001b[0m     \u001b[0;32mfor\u001b[0m \u001b[0mnode\u001b[0m \u001b[0;32min\u001b[0m \u001b[0mtoposort\u001b[0m\u001b[0;34m(\u001b[0m\u001b[0mend_node\u001b[0m\u001b[0;34m)\u001b[0m\u001b[0;34m:\u001b[0m\u001b[0;34m\u001b[0m\u001b[0;34m\u001b[0m\u001b[0m\n\u001b[1;32m     20\u001b[0m         \u001b[0moutgrad\u001b[0m \u001b[0;34m=\u001b[0m \u001b[0moutgrads\u001b[0m\u001b[0;34m.\u001b[0m\u001b[0mpop\u001b[0m\u001b[0;34m(\u001b[0m\u001b[0mnode\u001b[0m\u001b[0;34m)\u001b[0m\u001b[0;34m\u001b[0m\u001b[0;34m\u001b[0m\u001b[0m\n\u001b[0;32m---> 21\u001b[0;31m         \u001b[0mingrads\u001b[0m \u001b[0;34m=\u001b[0m \u001b[0mnode\u001b[0m\u001b[0;34m.\u001b[0m\u001b[0mvjp\u001b[0m\u001b[0;34m(\u001b[0m\u001b[0moutgrad\u001b[0m\u001b[0;34m[\u001b[0m\u001b[0;36m0\u001b[0m\u001b[0;34m]\u001b[0m\u001b[0;34m)\u001b[0m\u001b[0;34m\u001b[0m\u001b[0;34m\u001b[0m\u001b[0m\n\u001b[0m\u001b[1;32m     22\u001b[0m         \u001b[0;32mfor\u001b[0m \u001b[0mparent\u001b[0m\u001b[0;34m,\u001b[0m \u001b[0mingrad\u001b[0m \u001b[0;32min\u001b[0m \u001b[0mzip\u001b[0m\u001b[0;34m(\u001b[0m\u001b[0mnode\u001b[0m\u001b[0;34m.\u001b[0m\u001b[0mparents\u001b[0m\u001b[0;34m,\u001b[0m \u001b[0mingrads\u001b[0m\u001b[0;34m)\u001b[0m\u001b[0;34m:\u001b[0m\u001b[0;34m\u001b[0m\u001b[0;34m\u001b[0m\u001b[0m\n\u001b[1;32m     23\u001b[0m             \u001b[0moutgrads\u001b[0m\u001b[0;34m[\u001b[0m\u001b[0mparent\u001b[0m\u001b[0;34m]\u001b[0m \u001b[0;34m=\u001b[0m \u001b[0madd_outgrads\u001b[0m\u001b[0;34m(\u001b[0m\u001b[0moutgrads\u001b[0m\u001b[0;34m.\u001b[0m\u001b[0mget\u001b[0m\u001b[0;34m(\u001b[0m\u001b[0mparent\u001b[0m\u001b[0;34m)\u001b[0m\u001b[0;34m,\u001b[0m \u001b[0mingrad\u001b[0m\u001b[0;34m)\u001b[0m\u001b[0;34m\u001b[0m\u001b[0;34m\u001b[0m\u001b[0m\n",
      "\u001b[0;32m~/anaconda3/lib/python3.9/site-packages/autograd/core.py\u001b[0m in \u001b[0;36m<lambda>\u001b[0;34m(g)\u001b[0m\n\u001b[1;32m     65\u001b[0m                     \"VJP of {} wrt argnum 0 not defined\".format(fun.__name__))\n\u001b[1;32m     66\u001b[0m             \u001b[0mvjp\u001b[0m \u001b[0;34m=\u001b[0m \u001b[0mvjpfun\u001b[0m\u001b[0;34m(\u001b[0m\u001b[0mans\u001b[0m\u001b[0;34m,\u001b[0m \u001b[0;34m*\u001b[0m\u001b[0margs\u001b[0m\u001b[0;34m,\u001b[0m \u001b[0;34m**\u001b[0m\u001b[0mkwargs\u001b[0m\u001b[0;34m)\u001b[0m\u001b[0;34m\u001b[0m\u001b[0;34m\u001b[0m\u001b[0m\n\u001b[0;32m---> 67\u001b[0;31m             \u001b[0;32mreturn\u001b[0m \u001b[0;32mlambda\u001b[0m \u001b[0mg\u001b[0m\u001b[0;34m:\u001b[0m \u001b[0;34m(\u001b[0m\u001b[0mvjp\u001b[0m\u001b[0;34m(\u001b[0m\u001b[0mg\u001b[0m\u001b[0;34m)\u001b[0m\u001b[0;34m,\u001b[0m\u001b[0;34m)\u001b[0m\u001b[0;34m\u001b[0m\u001b[0;34m\u001b[0m\u001b[0m\n\u001b[0m\u001b[1;32m     68\u001b[0m         \u001b[0;32melif\u001b[0m \u001b[0mL\u001b[0m \u001b[0;34m==\u001b[0m \u001b[0;36m2\u001b[0m\u001b[0;34m:\u001b[0m\u001b[0;34m\u001b[0m\u001b[0;34m\u001b[0m\u001b[0m\n\u001b[1;32m     69\u001b[0m             \u001b[0margnum_0\u001b[0m\u001b[0;34m,\u001b[0m \u001b[0margnum_1\u001b[0m \u001b[0;34m=\u001b[0m \u001b[0margnums\u001b[0m\u001b[0;34m\u001b[0m\u001b[0;34m\u001b[0m\u001b[0m\n",
      "\u001b[0;32m~/anaconda3/lib/python3.9/site-packages/autograd/numpy/numpy_vjps.py\u001b[0m in \u001b[0;36m<lambda>\u001b[0;34m(g)\u001b[0m\n\u001b[1;32m    658\u001b[0m \u001b[0;32mdef\u001b[0m \u001b[0munbroadcast_f\u001b[0m\u001b[0;34m(\u001b[0m\u001b[0mtarget\u001b[0m\u001b[0;34m,\u001b[0m \u001b[0mf\u001b[0m\u001b[0;34m)\u001b[0m\u001b[0;34m:\u001b[0m\u001b[0;34m\u001b[0m\u001b[0;34m\u001b[0m\u001b[0m\n\u001b[1;32m    659\u001b[0m     \u001b[0mtarget_meta\u001b[0m \u001b[0;34m=\u001b[0m \u001b[0manp\u001b[0m\u001b[0;34m.\u001b[0m\u001b[0mmetadata\u001b[0m\u001b[0;34m(\u001b[0m\u001b[0mtarget\u001b[0m\u001b[0;34m)\u001b[0m\u001b[0;34m\u001b[0m\u001b[0;34m\u001b[0m\u001b[0m\n\u001b[0;32m--> 660\u001b[0;31m     \u001b[0;32mreturn\u001b[0m \u001b[0;32mlambda\u001b[0m \u001b[0mg\u001b[0m\u001b[0;34m:\u001b[0m \u001b[0munbroadcast\u001b[0m\u001b[0;34m(\u001b[0m\u001b[0mf\u001b[0m\u001b[0;34m(\u001b[0m\u001b[0mg\u001b[0m\u001b[0;34m)\u001b[0m\u001b[0;34m,\u001b[0m \u001b[0mtarget_meta\u001b[0m\u001b[0;34m)\u001b[0m\u001b[0;34m\u001b[0m\u001b[0;34m\u001b[0m\u001b[0m\n\u001b[0m\u001b[1;32m    661\u001b[0m \u001b[0;34m\u001b[0m\u001b[0m\n\u001b[1;32m    662\u001b[0m \u001b[0;32mdef\u001b[0m \u001b[0munbroadcast_einsum\u001b[0m\u001b[0;34m(\u001b[0m\u001b[0mx\u001b[0m\u001b[0;34m,\u001b[0m \u001b[0mtarget_meta\u001b[0m\u001b[0;34m,\u001b[0m \u001b[0msubscript\u001b[0m\u001b[0;34m)\u001b[0m\u001b[0;34m:\u001b[0m\u001b[0;34m\u001b[0m\u001b[0;34m\u001b[0m\u001b[0m\n",
      "\u001b[0;32m~/anaconda3/lib/python3.9/site-packages/autograd/numpy/numpy_vjps.py\u001b[0m in \u001b[0;36munbroadcast\u001b[0;34m(x, target_meta, broadcast_idx)\u001b[0m\n\u001b[1;32m    647\u001b[0m \u001b[0;32mdef\u001b[0m \u001b[0munbroadcast\u001b[0m\u001b[0;34m(\u001b[0m\u001b[0mx\u001b[0m\u001b[0;34m,\u001b[0m \u001b[0mtarget_meta\u001b[0m\u001b[0;34m,\u001b[0m \u001b[0mbroadcast_idx\u001b[0m\u001b[0;34m=\u001b[0m\u001b[0;36m0\u001b[0m\u001b[0;34m)\u001b[0m\u001b[0;34m:\u001b[0m\u001b[0;34m\u001b[0m\u001b[0;34m\u001b[0m\u001b[0m\n\u001b[1;32m    648\u001b[0m     \u001b[0mtarget_shape\u001b[0m\u001b[0;34m,\u001b[0m \u001b[0mtarget_ndim\u001b[0m\u001b[0;34m,\u001b[0m \u001b[0mdtype\u001b[0m\u001b[0;34m,\u001b[0m \u001b[0mtarget_iscomplex\u001b[0m \u001b[0;34m=\u001b[0m \u001b[0mtarget_meta\u001b[0m\u001b[0;34m\u001b[0m\u001b[0;34m\u001b[0m\u001b[0m\n\u001b[0;32m--> 649\u001b[0;31m     \u001b[0;32mwhile\u001b[0m \u001b[0manp\u001b[0m\u001b[0;34m.\u001b[0m\u001b[0mndim\u001b[0m\u001b[0;34m(\u001b[0m\u001b[0mx\u001b[0m\u001b[0;34m)\u001b[0m \u001b[0;34m>\u001b[0m \u001b[0mtarget_ndim\u001b[0m\u001b[0;34m:\u001b[0m\u001b[0;34m\u001b[0m\u001b[0;34m\u001b[0m\u001b[0m\n\u001b[0m\u001b[1;32m    650\u001b[0m         \u001b[0mx\u001b[0m \u001b[0;34m=\u001b[0m \u001b[0manp\u001b[0m\u001b[0;34m.\u001b[0m\u001b[0msum\u001b[0m\u001b[0;34m(\u001b[0m\u001b[0mx\u001b[0m\u001b[0;34m,\u001b[0m \u001b[0maxis\u001b[0m\u001b[0;34m=\u001b[0m\u001b[0mbroadcast_idx\u001b[0m\u001b[0;34m)\u001b[0m\u001b[0;34m\u001b[0m\u001b[0;34m\u001b[0m\u001b[0m\n\u001b[1;32m    651\u001b[0m     \u001b[0;32mfor\u001b[0m \u001b[0maxis\u001b[0m\u001b[0;34m,\u001b[0m \u001b[0msize\u001b[0m \u001b[0;32min\u001b[0m \u001b[0menumerate\u001b[0m\u001b[0;34m(\u001b[0m\u001b[0mtarget_shape\u001b[0m\u001b[0;34m)\u001b[0m\u001b[0;34m:\u001b[0m\u001b[0;34m\u001b[0m\u001b[0;34m\u001b[0m\u001b[0m\n",
      "\u001b[0;32m~/anaconda3/lib/python3.9/site-packages/autograd/tracer.py\u001b[0m in \u001b[0;36mf_wrapped\u001b[0;34m(*args, **kwargs)\u001b[0m\n\u001b[1;32m     59\u001b[0m     \u001b[0;32mdef\u001b[0m \u001b[0mf_wrapped\u001b[0m\u001b[0;34m(\u001b[0m\u001b[0;34m*\u001b[0m\u001b[0margs\u001b[0m\u001b[0;34m,\u001b[0m \u001b[0;34m**\u001b[0m\u001b[0mkwargs\u001b[0m\u001b[0;34m)\u001b[0m\u001b[0;34m:\u001b[0m\u001b[0;34m\u001b[0m\u001b[0;34m\u001b[0m\u001b[0m\n\u001b[1;32m     60\u001b[0m         \u001b[0margvals\u001b[0m \u001b[0;34m=\u001b[0m \u001b[0mmap\u001b[0m\u001b[0;34m(\u001b[0m\u001b[0mgetval\u001b[0m\u001b[0;34m,\u001b[0m \u001b[0margs\u001b[0m\u001b[0;34m)\u001b[0m\u001b[0;34m\u001b[0m\u001b[0;34m\u001b[0m\u001b[0m\n\u001b[0;32m---> 61\u001b[0;31m         \u001b[0;32mreturn\u001b[0m \u001b[0mf_raw\u001b[0m\u001b[0;34m(\u001b[0m\u001b[0;34m*\u001b[0m\u001b[0margvals\u001b[0m\u001b[0;34m,\u001b[0m \u001b[0;34m**\u001b[0m\u001b[0mkwargs\u001b[0m\u001b[0;34m)\u001b[0m\u001b[0;34m\u001b[0m\u001b[0;34m\u001b[0m\u001b[0m\n\u001b[0m\u001b[1;32m     62\u001b[0m     \u001b[0mf_wrapped\u001b[0m\u001b[0;34m.\u001b[0m\u001b[0m_is_primitive\u001b[0m \u001b[0;34m=\u001b[0m \u001b[0;32mTrue\u001b[0m\u001b[0;34m\u001b[0m\u001b[0;34m\u001b[0m\u001b[0m\n\u001b[1;32m     63\u001b[0m     \u001b[0;32mreturn\u001b[0m \u001b[0mf_wrapped\u001b[0m\u001b[0;34m\u001b[0m\u001b[0;34m\u001b[0m\u001b[0m\n",
      "\u001b[0;32m<__array_function__ internals>\u001b[0m in \u001b[0;36mndim\u001b[0;34m(*args, **kwargs)\u001b[0m\n",
      "\u001b[0;32m~/anaconda3/lib/python3.9/site-packages/numpy/core/fromnumeric.py\u001b[0m in \u001b[0;36mndim\u001b[0;34m(a)\u001b[0m\n\u001b[1;32m   3136\u001b[0m \u001b[0;34m\u001b[0m\u001b[0m\n\u001b[1;32m   3137\u001b[0m     \"\"\"\n\u001b[0;32m-> 3138\u001b[0;31m     \u001b[0;32mtry\u001b[0m\u001b[0;34m:\u001b[0m\u001b[0;34m\u001b[0m\u001b[0;34m\u001b[0m\u001b[0m\n\u001b[0m\u001b[1;32m   3139\u001b[0m         \u001b[0;32mreturn\u001b[0m \u001b[0ma\u001b[0m\u001b[0;34m.\u001b[0m\u001b[0mndim\u001b[0m\u001b[0;34m\u001b[0m\u001b[0;34m\u001b[0m\u001b[0m\n\u001b[1;32m   3140\u001b[0m     \u001b[0;32mexcept\u001b[0m \u001b[0mAttributeError\u001b[0m\u001b[0;34m:\u001b[0m\u001b[0;34m\u001b[0m\u001b[0;34m\u001b[0m\u001b[0m\n",
      "\u001b[0;31mKeyboardInterrupt\u001b[0m: "
     ]
    }
   ],
   "source": [
    "data = dict()\n",
    "data[\"method\"] = []\n",
    "data[\"time\"] = []\n",
    "data[\"iters\"] = []\n",
    "data[\"instance\"] = []\n",
    "data[\"opt_val\"] = []\n",
    "m,n = 50,100\n",
    "for i in range(5):\n",
    "    A,b,c = gen_LP_instance(m,n)\n",
    "    def f_0(x):\n",
    "        return c@x\n",
    "    if i == 0:\n",
    "        fs = [f_0]\n",
    "        for i in range(n):\n",
    "            def f_i(x,i=i):\n",
    "                return -x[i]\n",
    "            fs.append(f_i)\n",
    "    else:\n",
    "        fs[0] = f_0\n",
    "    x_0 = np.random.rand(n)\n",
    "    st = time.time()\n",
    "    solver = interior_points(fs,A.copy(),b.copy(),x_0.copy())\n",
    "    x,nu,vals,_,_ = solver.solve()\n",
    "    end = time.time()\n",
    "    data[\"method\"].append(\"pontos interiores\")\n",
    "    data[\"time\"].append(end - st)\n",
    "    data[\"iters\"].append(len(vals))\n",
    "    data[\"instance\"].append(i)\n",
    "    data[\"opt_val\"].append(c@x)\n",
    "    print(\"----------------------\")\n",
    "    A_s,b_s,c_s = to_simplex(A,b,c)\n",
    "    st = time.time()\n",
    "    solver = LP(A_s,b_s,c_s)\n",
    "    x,opt_val,simplex_vals = solver.solve()\n",
    "    end = time.time()\n",
    "    data[\"method\"].append(\"simplex\")\n",
    "    data[\"time\"].append(end - st)\n",
    "    data[\"iters\"].append(len(simplex_vals))\n",
    "    data[\"instance\"].append(i)\n",
    "    data[\"opt_val\"].append(c_s@x)\n",
    "#     data[\"opt_point\"].append(x)"
   ]
  },
  {
   "cell_type": "code",
   "execution_count": 33,
   "id": "74c8f08d",
   "metadata": {},
   "outputs": [
    {
     "data": {
      "text/html": [
       "<div>\n",
       "<style scoped>\n",
       "    .dataframe tbody tr th:only-of-type {\n",
       "        vertical-align: middle;\n",
       "    }\n",
       "\n",
       "    .dataframe tbody tr th {\n",
       "        vertical-align: top;\n",
       "    }\n",
       "\n",
       "    .dataframe thead th {\n",
       "        text-align: right;\n",
       "    }\n",
       "</style>\n",
       "<table border=\"1\" class=\"dataframe\">\n",
       "  <thead>\n",
       "    <tr style=\"text-align: right;\">\n",
       "      <th></th>\n",
       "      <th>method</th>\n",
       "      <th>time</th>\n",
       "      <th>iters</th>\n",
       "      <th>instance</th>\n",
       "      <th>opt_val</th>\n",
       "    </tr>\n",
       "  </thead>\n",
       "  <tbody>\n",
       "    <tr>\n",
       "      <th>0</th>\n",
       "      <td>pontos interiores</td>\n",
       "      <td>72.157490</td>\n",
       "      <td>5</td>\n",
       "      <td>99</td>\n",
       "      <td>18.118170</td>\n",
       "    </tr>\n",
       "    <tr>\n",
       "      <th>1</th>\n",
       "      <td>simplex</td>\n",
       "      <td>4.759701</td>\n",
       "      <td>615</td>\n",
       "      <td>99</td>\n",
       "      <td>18.113118</td>\n",
       "    </tr>\n",
       "    <tr>\n",
       "      <th>2</th>\n",
       "      <td>pontos interiores</td>\n",
       "      <td>67.227067</td>\n",
       "      <td>5</td>\n",
       "      <td>1</td>\n",
       "      <td>16.099161</td>\n",
       "    </tr>\n",
       "    <tr>\n",
       "      <th>3</th>\n",
       "      <td>simplex</td>\n",
       "      <td>3.621449</td>\n",
       "      <td>425</td>\n",
       "      <td>1</td>\n",
       "      <td>16.094197</td>\n",
       "    </tr>\n",
       "    <tr>\n",
       "      <th>4</th>\n",
       "      <td>pontos interiores</td>\n",
       "      <td>66.842649</td>\n",
       "      <td>5</td>\n",
       "      <td>2</td>\n",
       "      <td>16.213036</td>\n",
       "    </tr>\n",
       "    <tr>\n",
       "      <th>5</th>\n",
       "      <td>simplex</td>\n",
       "      <td>3.325775</td>\n",
       "      <td>479</td>\n",
       "      <td>2</td>\n",
       "      <td>16.208056</td>\n",
       "    </tr>\n",
       "    <tr>\n",
       "      <th>6</th>\n",
       "      <td>pontos interiores</td>\n",
       "      <td>70.519541</td>\n",
       "      <td>5</td>\n",
       "      <td>3</td>\n",
       "      <td>12.014670</td>\n",
       "    </tr>\n",
       "    <tr>\n",
       "      <th>7</th>\n",
       "      <td>simplex</td>\n",
       "      <td>4.502864</td>\n",
       "      <td>584</td>\n",
       "      <td>3</td>\n",
       "      <td>12.009670</td>\n",
       "    </tr>\n",
       "    <tr>\n",
       "      <th>8</th>\n",
       "      <td>pontos interiores</td>\n",
       "      <td>67.806587</td>\n",
       "      <td>5</td>\n",
       "      <td>4</td>\n",
       "      <td>14.061911</td>\n",
       "    </tr>\n",
       "    <tr>\n",
       "      <th>9</th>\n",
       "      <td>simplex</td>\n",
       "      <td>4.005294</td>\n",
       "      <td>501</td>\n",
       "      <td>4</td>\n",
       "      <td>14.056863</td>\n",
       "    </tr>\n",
       "  </tbody>\n",
       "</table>\n",
       "</div>"
      ],
      "text/plain": [
       "              method       time  iters  instance    opt_val\n",
       "0  pontos interiores  72.157490      5        99  18.118170\n",
       "1            simplex   4.759701    615        99  18.113118\n",
       "2  pontos interiores  67.227067      5         1  16.099161\n",
       "3            simplex   3.621449    425         1  16.094197\n",
       "4  pontos interiores  66.842649      5         2  16.213036\n",
       "5            simplex   3.325775    479         2  16.208056\n",
       "6  pontos interiores  70.519541      5         3  12.014670\n",
       "7            simplex   4.502864    584         3  12.009670\n",
       "8  pontos interiores  67.806587      5         4  14.061911\n",
       "9            simplex   4.005294    501         4  14.056863"
      ]
     },
     "execution_count": 33,
     "metadata": {},
     "output_type": "execute_result"
    }
   ],
   "source": [
    "df = pd.DataFrame.from_dict(data)\n",
    "df"
   ]
  },
  {
   "cell_type": "code",
   "execution_count": 6,
   "id": "517d1616",
   "metadata": {},
   "outputs": [],
   "source": [
    "def gen_LP_instance_non_image(m,n):\n",
    "    A = np.random.rand(m,n)\n",
    "    x = np.random.rand(n)\n",
    "    b = A@x\n",
    "    b += np.random.uniform(-1,1,m)\n",
    "    c = np.random.rand(n)\n",
    "    return A,b,c"
   ]
  },
  {
   "cell_type": "code",
   "execution_count": 3,
   "id": "708a7756",
   "metadata": {},
   "outputs": [],
   "source": [
    "m = 50\n",
    "n = 100\n",
    "# A,b,c = gen_LP_instance_non_image(m,n)\n",
    "P = A@np.linalg.inv(A.T@A)@A.T\n",
    "assert (P@b == b).all() == False\n",
    "def f_0(x):\n",
    "    return c@x\n",
    "fs = [f_0]\n",
    "for i in range(m):\n",
    "    def f_i(x):\n",
    "        return A[i,:]@x - b[i]\n",
    "    fs.append(f_i)"
   ]
  },
  {
   "cell_type": "code",
   "execution_count": 8,
   "id": "a5410703",
   "metadata": {},
   "outputs": [],
   "source": [
    "with open('A.npy', 'wb') as f:\n",
    "    np.save(f,A)\n",
    "with open('b.npy', 'wb') as f:\n",
    "    np.save(f,b)"
   ]
  },
  {
   "cell_type": "code",
   "execution_count": 2,
   "id": "81f747f4",
   "metadata": {},
   "outputs": [],
   "source": [
    "with open('A.npy', 'rb') as f:\n",
    "    A = np.load(f)\n",
    "with open('b.npy', 'rb') as f:\n",
    "    b = np.load(f)"
   ]
  },
  {
   "cell_type": "code",
   "execution_count": 4,
   "id": "8fb33f37",
   "metadata": {},
   "outputs": [
    {
     "name": "stderr",
     "output_type": "stream",
     "text": [
      "/home/dell/anaconda3/lib/python3.9/site-packages/autograd/tracer.py:48: RuntimeWarning: invalid value encountered in log\n",
      "  return f_raw(*args, **kwargs)\n"
     ]
    },
    {
     "ename": "KeyboardInterrupt",
     "evalue": "",
     "output_type": "error",
     "traceback": [
      "\u001b[0;31m---------------------------------------------------------------------------\u001b[0m",
      "\u001b[0;31mKeyboardInterrupt\u001b[0m                         Traceback (most recent call last)",
      "\u001b[0;32m/tmp/ipykernel_141224/2132846850.py\u001b[0m in \u001b[0;36m<module>\u001b[0;34m\u001b[0m\n\u001b[1;32m      1\u001b[0m \u001b[0mx_0\u001b[0m \u001b[0;34m=\u001b[0m \u001b[0mnp\u001b[0m\u001b[0;34m.\u001b[0m\u001b[0mrandom\u001b[0m\u001b[0;34m.\u001b[0m\u001b[0mrand\u001b[0m\u001b[0;34m(\u001b[0m\u001b[0mn\u001b[0m\u001b[0;34m)\u001b[0m\u001b[0;34m\u001b[0m\u001b[0;34m\u001b[0m\u001b[0m\n\u001b[1;32m      2\u001b[0m \u001b[0msolver\u001b[0m \u001b[0;34m=\u001b[0m \u001b[0minterior_points\u001b[0m\u001b[0;34m(\u001b[0m\u001b[0mfs\u001b[0m\u001b[0;34m,\u001b[0m\u001b[0mA\u001b[0m\u001b[0;34m.\u001b[0m\u001b[0mcopy\u001b[0m\u001b[0;34m(\u001b[0m\u001b[0;34m)\u001b[0m\u001b[0;34m,\u001b[0m\u001b[0mb\u001b[0m\u001b[0;34m.\u001b[0m\u001b[0mcopy\u001b[0m\u001b[0;34m(\u001b[0m\u001b[0;34m)\u001b[0m\u001b[0;34m,\u001b[0m\u001b[0mx_0\u001b[0m\u001b[0;34m.\u001b[0m\u001b[0mcopy\u001b[0m\u001b[0;34m(\u001b[0m\u001b[0;34m)\u001b[0m\u001b[0;34m,\u001b[0m\u001b[0mmethod_max\u001b[0m\u001b[0;34m=\u001b[0m\u001b[0;32mFalse\u001b[0m\u001b[0;34m)\u001b[0m\u001b[0;34m\u001b[0m\u001b[0;34m\u001b[0m\u001b[0m\n\u001b[0;32m----> 3\u001b[0;31m \u001b[0mx\u001b[0m \u001b[0;34m=\u001b[0m \u001b[0msolver\u001b[0m\u001b[0;34m.\u001b[0m\u001b[0mphase_one_sum\u001b[0m\u001b[0;34m(\u001b[0m\u001b[0;34m)\u001b[0m\u001b[0;34m\u001b[0m\u001b[0;34m\u001b[0m\u001b[0m\n\u001b[0m\u001b[1;32m      4\u001b[0m \u001b[0ma\u001b[0m \u001b[0;34m=\u001b[0m \u001b[0mb\u001b[0m \u001b[0;34m-\u001b[0m \u001b[0mA\u001b[0m\u001b[0;34m@\u001b[0m\u001b[0mx\u001b[0m\u001b[0;34m\u001b[0m\u001b[0;34m\u001b[0m\u001b[0m\n\u001b[1;32m      5\u001b[0m \u001b[0mplt\u001b[0m\u001b[0;34m.\u001b[0m\u001b[0mhist\u001b[0m\u001b[0;34m(\u001b[0m\u001b[0ma\u001b[0m\u001b[0;34m,\u001b[0m\u001b[0;36m20\u001b[0m\u001b[0;34m)\u001b[0m\u001b[0;34m\u001b[0m\u001b[0;34m\u001b[0m\u001b[0m\n",
      "\u001b[0;32m~/felipe/UFRJ/Mestrado/TopEspOtm/inequality_constrained3.py\u001b[0m in \u001b[0;36mphase_one_sum\u001b[0;34m(self)\u001b[0m\n\u001b[1;32m     89\u001b[0m             \u001b[0mg\u001b[0m \u001b[0;34m=\u001b[0m \u001b[0mgrad\u001b[0m\u001b[0;34m(\u001b[0m\u001b[0mf\u001b[0m\u001b[0;34m)\u001b[0m\u001b[0;34m\u001b[0m\u001b[0;34m\u001b[0m\u001b[0m\n\u001b[1;32m     90\u001b[0m             \u001b[0msolver\u001b[0m \u001b[0;34m=\u001b[0m \u001b[0mgrad_irrestricted\u001b[0m\u001b[0;34m(\u001b[0m\u001b[0mf\u001b[0m\u001b[0;34m,\u001b[0m\u001b[0mg\u001b[0m\u001b[0;34m,\u001b[0m\u001b[0mx_0\u001b[0m\u001b[0;34m=\u001b[0m\u001b[0mx\u001b[0m\u001b[0;34m)\u001b[0m\u001b[0;34m\u001b[0m\u001b[0;34m\u001b[0m\u001b[0m\n\u001b[0;32m---> 91\u001b[0;31m             \u001b[0mx\u001b[0m\u001b[0;34m,\u001b[0m\u001b[0m_\u001b[0m\u001b[0;34m,\u001b[0m\u001b[0m_\u001b[0m \u001b[0;34m=\u001b[0m \u001b[0msolver\u001b[0m\u001b[0;34m.\u001b[0m\u001b[0msolve\u001b[0m\u001b[0;34m(\u001b[0m\u001b[0;34m)\u001b[0m\u001b[0;34m\u001b[0m\u001b[0;34m\u001b[0m\u001b[0m\n\u001b[0m\u001b[1;32m     92\u001b[0m             \u001b[0mt\u001b[0m \u001b[0;34m*=\u001b[0m \u001b[0mself\u001b[0m\u001b[0;34m.\u001b[0m\u001b[0mmu\u001b[0m\u001b[0;34m\u001b[0m\u001b[0;34m\u001b[0m\u001b[0m\n\u001b[1;32m     93\u001b[0m         \u001b[0mprint\u001b[0m\u001b[0;34m(\u001b[0m\u001b[0;34m\"Sum infeasibilities: \"\u001b[0m\u001b[0;34m,\u001b[0m\u001b[0mnp\u001b[0m\u001b[0;34m.\u001b[0m\u001b[0msum\u001b[0m\u001b[0;34m(\u001b[0m\u001b[0mx\u001b[0m\u001b[0;34m[\u001b[0m\u001b[0;34m:\u001b[0m\u001b[0mself\u001b[0m\u001b[0;34m.\u001b[0m\u001b[0mm\u001b[0m\u001b[0;34m]\u001b[0m\u001b[0;34m)\u001b[0m\u001b[0;34m)\u001b[0m\u001b[0;34m\u001b[0m\u001b[0;34m\u001b[0m\u001b[0m\n",
      "\u001b[0;32m~/felipe/UFRJ/Mestrado/TopEspOtm/unconstrained.py\u001b[0m in \u001b[0;36msolve\u001b[0;34m(self)\u001b[0m\n\u001b[1;32m     81\u001b[0m         \u001b[0msols\u001b[0m \u001b[0;34m=\u001b[0m \u001b[0;34m[\u001b[0m\u001b[0;34m]\u001b[0m\u001b[0;34m\u001b[0m\u001b[0;34m\u001b[0m\u001b[0m\n\u001b[1;32m     82\u001b[0m         \u001b[0;32mwhile\u001b[0m \u001b[0;32mTrue\u001b[0m\u001b[0;34m:\u001b[0m\u001b[0;34m\u001b[0m\u001b[0;34m\u001b[0m\u001b[0m\n\u001b[0;32m---> 83\u001b[0;31m             \u001b[0mg\u001b[0m \u001b[0;34m=\u001b[0m \u001b[0mself\u001b[0m\u001b[0;34m.\u001b[0m\u001b[0mgrad\u001b[0m\u001b[0;34m(\u001b[0m\u001b[0mx\u001b[0m\u001b[0;34m)\u001b[0m\u001b[0;34m\u001b[0m\u001b[0;34m\u001b[0m\u001b[0m\n\u001b[0m\u001b[1;32m     84\u001b[0m             \u001b[0mv\u001b[0m \u001b[0;34m=\u001b[0m \u001b[0;34m-\u001b[0m\u001b[0;36m1\u001b[0m\u001b[0;34m*\u001b[0m\u001b[0mg\u001b[0m\u001b[0;34m\u001b[0m\u001b[0;34m\u001b[0m\u001b[0m\n\u001b[1;32m     85\u001b[0m             \u001b[0mt\u001b[0m \u001b[0;34m=\u001b[0m \u001b[0mself\u001b[0m\u001b[0;34m.\u001b[0m\u001b[0mline_search\u001b[0m\u001b[0;34m(\u001b[0m\u001b[0mv\u001b[0m\u001b[0;34m,\u001b[0m\u001b[0mx\u001b[0m\u001b[0;34m)\u001b[0m\u001b[0;34m\u001b[0m\u001b[0;34m\u001b[0m\u001b[0m\n",
      "\u001b[0;32m~/anaconda3/lib/python3.9/site-packages/autograd/wrap_util.py\u001b[0m in \u001b[0;36mnary_f\u001b[0;34m(*args, **kwargs)\u001b[0m\n\u001b[1;32m     18\u001b[0m             \u001b[0;32melse\u001b[0m\u001b[0;34m:\u001b[0m\u001b[0;34m\u001b[0m\u001b[0;34m\u001b[0m\u001b[0m\n\u001b[1;32m     19\u001b[0m                 \u001b[0mx\u001b[0m \u001b[0;34m=\u001b[0m \u001b[0mtuple\u001b[0m\u001b[0;34m(\u001b[0m\u001b[0margs\u001b[0m\u001b[0;34m[\u001b[0m\u001b[0mi\u001b[0m\u001b[0;34m]\u001b[0m \u001b[0;32mfor\u001b[0m \u001b[0mi\u001b[0m \u001b[0;32min\u001b[0m \u001b[0margnum\u001b[0m\u001b[0;34m)\u001b[0m\u001b[0;34m\u001b[0m\u001b[0;34m\u001b[0m\u001b[0m\n\u001b[0;32m---> 20\u001b[0;31m             \u001b[0;32mreturn\u001b[0m \u001b[0munary_operator\u001b[0m\u001b[0;34m(\u001b[0m\u001b[0munary_f\u001b[0m\u001b[0;34m,\u001b[0m \u001b[0mx\u001b[0m\u001b[0;34m,\u001b[0m \u001b[0;34m*\u001b[0m\u001b[0mnary_op_args\u001b[0m\u001b[0;34m,\u001b[0m \u001b[0;34m**\u001b[0m\u001b[0mnary_op_kwargs\u001b[0m\u001b[0;34m)\u001b[0m\u001b[0;34m\u001b[0m\u001b[0;34m\u001b[0m\u001b[0m\n\u001b[0m\u001b[1;32m     21\u001b[0m         \u001b[0;32mreturn\u001b[0m \u001b[0mnary_f\u001b[0m\u001b[0;34m\u001b[0m\u001b[0;34m\u001b[0m\u001b[0m\n\u001b[1;32m     22\u001b[0m     \u001b[0;32mreturn\u001b[0m \u001b[0mnary_operator\u001b[0m\u001b[0;34m\u001b[0m\u001b[0;34m\u001b[0m\u001b[0m\n",
      "\u001b[0;32m~/anaconda3/lib/python3.9/site-packages/autograd/differential_operators.py\u001b[0m in \u001b[0;36mgrad\u001b[0;34m(fun, x)\u001b[0m\n\u001b[1;32m     27\u001b[0m         raise TypeError(\"Grad only applies to real scalar-output functions. \"\n\u001b[1;32m     28\u001b[0m                         \"Try jacobian, elementwise_grad or holomorphic_grad.\")\n\u001b[0;32m---> 29\u001b[0;31m     \u001b[0;32mreturn\u001b[0m \u001b[0mvjp\u001b[0m\u001b[0;34m(\u001b[0m\u001b[0mvspace\u001b[0m\u001b[0;34m(\u001b[0m\u001b[0mans\u001b[0m\u001b[0;34m)\u001b[0m\u001b[0;34m.\u001b[0m\u001b[0mones\u001b[0m\u001b[0;34m(\u001b[0m\u001b[0;34m)\u001b[0m\u001b[0;34m)\u001b[0m\u001b[0;34m\u001b[0m\u001b[0;34m\u001b[0m\u001b[0m\n\u001b[0m\u001b[1;32m     30\u001b[0m \u001b[0;34m\u001b[0m\u001b[0m\n\u001b[1;32m     31\u001b[0m \u001b[0;34m@\u001b[0m\u001b[0munary_to_nary\u001b[0m\u001b[0;34m\u001b[0m\u001b[0;34m\u001b[0m\u001b[0m\n",
      "\u001b[0;32m~/anaconda3/lib/python3.9/site-packages/autograd/core.py\u001b[0m in \u001b[0;36mvjp\u001b[0;34m(g)\u001b[0m\n\u001b[1;32m     12\u001b[0m         \u001b[0;32mdef\u001b[0m \u001b[0mvjp\u001b[0m\u001b[0;34m(\u001b[0m\u001b[0mg\u001b[0m\u001b[0;34m)\u001b[0m\u001b[0;34m:\u001b[0m \u001b[0;32mreturn\u001b[0m \u001b[0mvspace\u001b[0m\u001b[0;34m(\u001b[0m\u001b[0mx\u001b[0m\u001b[0;34m)\u001b[0m\u001b[0;34m.\u001b[0m\u001b[0mzeros\u001b[0m\u001b[0;34m(\u001b[0m\u001b[0;34m)\u001b[0m\u001b[0;34m\u001b[0m\u001b[0;34m\u001b[0m\u001b[0m\n\u001b[1;32m     13\u001b[0m     \u001b[0;32melse\u001b[0m\u001b[0;34m:\u001b[0m\u001b[0;34m\u001b[0m\u001b[0;34m\u001b[0m\u001b[0m\n\u001b[0;32m---> 14\u001b[0;31m         \u001b[0;32mdef\u001b[0m \u001b[0mvjp\u001b[0m\u001b[0;34m(\u001b[0m\u001b[0mg\u001b[0m\u001b[0;34m)\u001b[0m\u001b[0;34m:\u001b[0m \u001b[0;32mreturn\u001b[0m \u001b[0mbackward_pass\u001b[0m\u001b[0;34m(\u001b[0m\u001b[0mg\u001b[0m\u001b[0;34m,\u001b[0m \u001b[0mend_node\u001b[0m\u001b[0;34m)\u001b[0m\u001b[0;34m\u001b[0m\u001b[0;34m\u001b[0m\u001b[0m\n\u001b[0m\u001b[1;32m     15\u001b[0m     \u001b[0;32mreturn\u001b[0m \u001b[0mvjp\u001b[0m\u001b[0;34m,\u001b[0m \u001b[0mend_value\u001b[0m\u001b[0;34m\u001b[0m\u001b[0;34m\u001b[0m\u001b[0m\n\u001b[1;32m     16\u001b[0m \u001b[0;34m\u001b[0m\u001b[0m\n",
      "\u001b[0;32m~/anaconda3/lib/python3.9/site-packages/autograd/core.py\u001b[0m in \u001b[0;36mbackward_pass\u001b[0;34m(g, end_node)\u001b[0m\n\u001b[1;32m     19\u001b[0m     \u001b[0;32mfor\u001b[0m \u001b[0mnode\u001b[0m \u001b[0;32min\u001b[0m \u001b[0mtoposort\u001b[0m\u001b[0;34m(\u001b[0m\u001b[0mend_node\u001b[0m\u001b[0;34m)\u001b[0m\u001b[0;34m:\u001b[0m\u001b[0;34m\u001b[0m\u001b[0;34m\u001b[0m\u001b[0m\n\u001b[1;32m     20\u001b[0m         \u001b[0moutgrad\u001b[0m \u001b[0;34m=\u001b[0m \u001b[0moutgrads\u001b[0m\u001b[0;34m.\u001b[0m\u001b[0mpop\u001b[0m\u001b[0;34m(\u001b[0m\u001b[0mnode\u001b[0m\u001b[0;34m)\u001b[0m\u001b[0;34m\u001b[0m\u001b[0;34m\u001b[0m\u001b[0m\n\u001b[0;32m---> 21\u001b[0;31m         \u001b[0mingrads\u001b[0m \u001b[0;34m=\u001b[0m \u001b[0mnode\u001b[0m\u001b[0;34m.\u001b[0m\u001b[0mvjp\u001b[0m\u001b[0;34m(\u001b[0m\u001b[0moutgrad\u001b[0m\u001b[0;34m[\u001b[0m\u001b[0;36m0\u001b[0m\u001b[0;34m]\u001b[0m\u001b[0;34m)\u001b[0m\u001b[0;34m\u001b[0m\u001b[0;34m\u001b[0m\u001b[0m\n\u001b[0m\u001b[1;32m     22\u001b[0m         \u001b[0;32mfor\u001b[0m \u001b[0mparent\u001b[0m\u001b[0;34m,\u001b[0m \u001b[0mingrad\u001b[0m \u001b[0;32min\u001b[0m \u001b[0mzip\u001b[0m\u001b[0;34m(\u001b[0m\u001b[0mnode\u001b[0m\u001b[0;34m.\u001b[0m\u001b[0mparents\u001b[0m\u001b[0;34m,\u001b[0m \u001b[0mingrads\u001b[0m\u001b[0;34m)\u001b[0m\u001b[0;34m:\u001b[0m\u001b[0;34m\u001b[0m\u001b[0;34m\u001b[0m\u001b[0m\n\u001b[1;32m     23\u001b[0m             \u001b[0moutgrads\u001b[0m\u001b[0;34m[\u001b[0m\u001b[0mparent\u001b[0m\u001b[0;34m]\u001b[0m \u001b[0;34m=\u001b[0m \u001b[0madd_outgrads\u001b[0m\u001b[0;34m(\u001b[0m\u001b[0moutgrads\u001b[0m\u001b[0;34m.\u001b[0m\u001b[0mget\u001b[0m\u001b[0;34m(\u001b[0m\u001b[0mparent\u001b[0m\u001b[0;34m)\u001b[0m\u001b[0;34m,\u001b[0m \u001b[0mingrad\u001b[0m\u001b[0;34m)\u001b[0m\u001b[0;34m\u001b[0m\u001b[0;34m\u001b[0m\u001b[0m\n",
      "\u001b[0;32m~/anaconda3/lib/python3.9/site-packages/autograd/core.py\u001b[0m in \u001b[0;36m<lambda>\u001b[0;34m(g)\u001b[0m\n\u001b[1;32m     76\u001b[0m             \u001b[0mvjp_0\u001b[0m \u001b[0;34m=\u001b[0m \u001b[0mvjp_0_fun\u001b[0m\u001b[0;34m(\u001b[0m\u001b[0mans\u001b[0m\u001b[0;34m,\u001b[0m \u001b[0;34m*\u001b[0m\u001b[0margs\u001b[0m\u001b[0;34m,\u001b[0m \u001b[0;34m**\u001b[0m\u001b[0mkwargs\u001b[0m\u001b[0;34m)\u001b[0m\u001b[0;34m\u001b[0m\u001b[0;34m\u001b[0m\u001b[0m\n\u001b[1;32m     77\u001b[0m             \u001b[0mvjp_1\u001b[0m \u001b[0;34m=\u001b[0m \u001b[0mvjp_1_fun\u001b[0m\u001b[0;34m(\u001b[0m\u001b[0mans\u001b[0m\u001b[0;34m,\u001b[0m \u001b[0;34m*\u001b[0m\u001b[0margs\u001b[0m\u001b[0;34m,\u001b[0m \u001b[0;34m**\u001b[0m\u001b[0mkwargs\u001b[0m\u001b[0;34m)\u001b[0m\u001b[0;34m\u001b[0m\u001b[0;34m\u001b[0m\u001b[0m\n\u001b[0;32m---> 78\u001b[0;31m             \u001b[0;32mreturn\u001b[0m \u001b[0;32mlambda\u001b[0m \u001b[0mg\u001b[0m\u001b[0;34m:\u001b[0m \u001b[0;34m(\u001b[0m\u001b[0mvjp_0\u001b[0m\u001b[0;34m(\u001b[0m\u001b[0mg\u001b[0m\u001b[0;34m)\u001b[0m\u001b[0;34m,\u001b[0m \u001b[0mvjp_1\u001b[0m\u001b[0;34m(\u001b[0m\u001b[0mg\u001b[0m\u001b[0;34m)\u001b[0m\u001b[0;34m)\u001b[0m\u001b[0;34m\u001b[0m\u001b[0;34m\u001b[0m\u001b[0m\n\u001b[0m\u001b[1;32m     79\u001b[0m         \u001b[0;32melse\u001b[0m\u001b[0;34m:\u001b[0m\u001b[0;34m\u001b[0m\u001b[0;34m\u001b[0m\u001b[0m\n\u001b[1;32m     80\u001b[0m             \u001b[0mvjps\u001b[0m \u001b[0;34m=\u001b[0m \u001b[0;34m[\u001b[0m\u001b[0mvjps_dict\u001b[0m\u001b[0;34m[\u001b[0m\u001b[0margnum\u001b[0m\u001b[0;34m]\u001b[0m\u001b[0;34m(\u001b[0m\u001b[0mans\u001b[0m\u001b[0;34m,\u001b[0m \u001b[0;34m*\u001b[0m\u001b[0margs\u001b[0m\u001b[0;34m,\u001b[0m \u001b[0;34m**\u001b[0m\u001b[0mkwargs\u001b[0m\u001b[0;34m)\u001b[0m \u001b[0;32mfor\u001b[0m \u001b[0margnum\u001b[0m \u001b[0;32min\u001b[0m \u001b[0margnums\u001b[0m\u001b[0;34m]\u001b[0m\u001b[0;34m\u001b[0m\u001b[0;34m\u001b[0m\u001b[0m\n",
      "\u001b[0;32m~/anaconda3/lib/python3.9/site-packages/autograd/numpy/numpy_vjps.py\u001b[0m in \u001b[0;36m<lambda>\u001b[0;34m(g)\u001b[0m\n\u001b[1;32m    658\u001b[0m \u001b[0;32mdef\u001b[0m \u001b[0munbroadcast_f\u001b[0m\u001b[0;34m(\u001b[0m\u001b[0mtarget\u001b[0m\u001b[0;34m,\u001b[0m \u001b[0mf\u001b[0m\u001b[0;34m)\u001b[0m\u001b[0;34m:\u001b[0m\u001b[0;34m\u001b[0m\u001b[0;34m\u001b[0m\u001b[0m\n\u001b[1;32m    659\u001b[0m     \u001b[0mtarget_meta\u001b[0m \u001b[0;34m=\u001b[0m \u001b[0manp\u001b[0m\u001b[0;34m.\u001b[0m\u001b[0mmetadata\u001b[0m\u001b[0;34m(\u001b[0m\u001b[0mtarget\u001b[0m\u001b[0;34m)\u001b[0m\u001b[0;34m\u001b[0m\u001b[0;34m\u001b[0m\u001b[0m\n\u001b[0;32m--> 660\u001b[0;31m     \u001b[0;32mreturn\u001b[0m \u001b[0;32mlambda\u001b[0m \u001b[0mg\u001b[0m\u001b[0;34m:\u001b[0m \u001b[0munbroadcast\u001b[0m\u001b[0;34m(\u001b[0m\u001b[0mf\u001b[0m\u001b[0;34m(\u001b[0m\u001b[0mg\u001b[0m\u001b[0;34m)\u001b[0m\u001b[0;34m,\u001b[0m \u001b[0mtarget_meta\u001b[0m\u001b[0;34m)\u001b[0m\u001b[0;34m\u001b[0m\u001b[0;34m\u001b[0m\u001b[0m\n\u001b[0m\u001b[1;32m    661\u001b[0m \u001b[0;34m\u001b[0m\u001b[0m\n\u001b[1;32m    662\u001b[0m \u001b[0;32mdef\u001b[0m \u001b[0munbroadcast_einsum\u001b[0m\u001b[0;34m(\u001b[0m\u001b[0mx\u001b[0m\u001b[0;34m,\u001b[0m \u001b[0mtarget_meta\u001b[0m\u001b[0;34m,\u001b[0m \u001b[0msubscript\u001b[0m\u001b[0;34m)\u001b[0m\u001b[0;34m:\u001b[0m\u001b[0;34m\u001b[0m\u001b[0;34m\u001b[0m\u001b[0m\n",
      "\u001b[0;32m~/anaconda3/lib/python3.9/site-packages/autograd/numpy/numpy_vjps.py\u001b[0m in \u001b[0;36munbroadcast\u001b[0;34m(x, target_meta, broadcast_idx)\u001b[0m\n\u001b[1;32m    647\u001b[0m \u001b[0;32mdef\u001b[0m \u001b[0munbroadcast\u001b[0m\u001b[0;34m(\u001b[0m\u001b[0mx\u001b[0m\u001b[0;34m,\u001b[0m \u001b[0mtarget_meta\u001b[0m\u001b[0;34m,\u001b[0m \u001b[0mbroadcast_idx\u001b[0m\u001b[0;34m=\u001b[0m\u001b[0;36m0\u001b[0m\u001b[0;34m)\u001b[0m\u001b[0;34m:\u001b[0m\u001b[0;34m\u001b[0m\u001b[0;34m\u001b[0m\u001b[0m\n\u001b[1;32m    648\u001b[0m     \u001b[0mtarget_shape\u001b[0m\u001b[0;34m,\u001b[0m \u001b[0mtarget_ndim\u001b[0m\u001b[0;34m,\u001b[0m \u001b[0mdtype\u001b[0m\u001b[0;34m,\u001b[0m \u001b[0mtarget_iscomplex\u001b[0m \u001b[0;34m=\u001b[0m \u001b[0mtarget_meta\u001b[0m\u001b[0;34m\u001b[0m\u001b[0;34m\u001b[0m\u001b[0m\n\u001b[0;32m--> 649\u001b[0;31m     \u001b[0;32mwhile\u001b[0m \u001b[0manp\u001b[0m\u001b[0;34m.\u001b[0m\u001b[0mndim\u001b[0m\u001b[0;34m(\u001b[0m\u001b[0mx\u001b[0m\u001b[0;34m)\u001b[0m \u001b[0;34m>\u001b[0m \u001b[0mtarget_ndim\u001b[0m\u001b[0;34m:\u001b[0m\u001b[0;34m\u001b[0m\u001b[0;34m\u001b[0m\u001b[0m\n\u001b[0m\u001b[1;32m    650\u001b[0m         \u001b[0mx\u001b[0m \u001b[0;34m=\u001b[0m \u001b[0manp\u001b[0m\u001b[0;34m.\u001b[0m\u001b[0msum\u001b[0m\u001b[0;34m(\u001b[0m\u001b[0mx\u001b[0m\u001b[0;34m,\u001b[0m \u001b[0maxis\u001b[0m\u001b[0;34m=\u001b[0m\u001b[0mbroadcast_idx\u001b[0m\u001b[0;34m)\u001b[0m\u001b[0;34m\u001b[0m\u001b[0;34m\u001b[0m\u001b[0m\n\u001b[1;32m    651\u001b[0m     \u001b[0;32mfor\u001b[0m \u001b[0maxis\u001b[0m\u001b[0;34m,\u001b[0m \u001b[0msize\u001b[0m \u001b[0;32min\u001b[0m \u001b[0menumerate\u001b[0m\u001b[0;34m(\u001b[0m\u001b[0mtarget_shape\u001b[0m\u001b[0;34m)\u001b[0m\u001b[0;34m:\u001b[0m\u001b[0;34m\u001b[0m\u001b[0;34m\u001b[0m\u001b[0m\n",
      "\u001b[0;32m~/anaconda3/lib/python3.9/site-packages/autograd/tracer.py\u001b[0m in \u001b[0;36mf_wrapped\u001b[0;34m(*args, **kwargs)\u001b[0m\n\u001b[1;32m     59\u001b[0m     \u001b[0;32mdef\u001b[0m \u001b[0mf_wrapped\u001b[0m\u001b[0;34m(\u001b[0m\u001b[0;34m*\u001b[0m\u001b[0margs\u001b[0m\u001b[0;34m,\u001b[0m \u001b[0;34m**\u001b[0m\u001b[0mkwargs\u001b[0m\u001b[0;34m)\u001b[0m\u001b[0;34m:\u001b[0m\u001b[0;34m\u001b[0m\u001b[0;34m\u001b[0m\u001b[0m\n\u001b[1;32m     60\u001b[0m         \u001b[0margvals\u001b[0m \u001b[0;34m=\u001b[0m \u001b[0mmap\u001b[0m\u001b[0;34m(\u001b[0m\u001b[0mgetval\u001b[0m\u001b[0;34m,\u001b[0m \u001b[0margs\u001b[0m\u001b[0;34m)\u001b[0m\u001b[0;34m\u001b[0m\u001b[0;34m\u001b[0m\u001b[0m\n\u001b[0;32m---> 61\u001b[0;31m         \u001b[0;32mreturn\u001b[0m \u001b[0mf_raw\u001b[0m\u001b[0;34m(\u001b[0m\u001b[0;34m*\u001b[0m\u001b[0margvals\u001b[0m\u001b[0;34m,\u001b[0m \u001b[0;34m**\u001b[0m\u001b[0mkwargs\u001b[0m\u001b[0;34m)\u001b[0m\u001b[0;34m\u001b[0m\u001b[0;34m\u001b[0m\u001b[0m\n\u001b[0m\u001b[1;32m     62\u001b[0m     \u001b[0mf_wrapped\u001b[0m\u001b[0;34m.\u001b[0m\u001b[0m_is_primitive\u001b[0m \u001b[0;34m=\u001b[0m \u001b[0;32mTrue\u001b[0m\u001b[0;34m\u001b[0m\u001b[0;34m\u001b[0m\u001b[0m\n\u001b[1;32m     63\u001b[0m     \u001b[0;32mreturn\u001b[0m \u001b[0mf_wrapped\u001b[0m\u001b[0;34m\u001b[0m\u001b[0;34m\u001b[0m\u001b[0m\n",
      "\u001b[0;32m<__array_function__ internals>\u001b[0m in \u001b[0;36mndim\u001b[0;34m(*args, **kwargs)\u001b[0m\n",
      "\u001b[0;32m~/anaconda3/lib/python3.9/site-packages/numpy/core/fromnumeric.py\u001b[0m in \u001b[0;36mndim\u001b[0;34m(a)\u001b[0m\n\u001b[1;32m   3136\u001b[0m \u001b[0;34m\u001b[0m\u001b[0m\n\u001b[1;32m   3137\u001b[0m     \"\"\"\n\u001b[0;32m-> 3138\u001b[0;31m     \u001b[0;32mtry\u001b[0m\u001b[0;34m:\u001b[0m\u001b[0;34m\u001b[0m\u001b[0;34m\u001b[0m\u001b[0m\n\u001b[0m\u001b[1;32m   3139\u001b[0m         \u001b[0;32mreturn\u001b[0m \u001b[0ma\u001b[0m\u001b[0;34m.\u001b[0m\u001b[0mndim\u001b[0m\u001b[0;34m\u001b[0m\u001b[0;34m\u001b[0m\u001b[0m\n\u001b[1;32m   3140\u001b[0m     \u001b[0;32mexcept\u001b[0m \u001b[0mAttributeError\u001b[0m\u001b[0;34m:\u001b[0m\u001b[0;34m\u001b[0m\u001b[0;34m\u001b[0m\u001b[0m\n",
      "\u001b[0;31mKeyboardInterrupt\u001b[0m: "
     ]
    }
   ],
   "source": [
    "x_0 = np.random.rand(n)\n",
    "solver = interior_points(fs,A.copy(),b.copy(),x_0.copy(),method_max=False)\n",
    "x = solver.phase_one_sum()\n",
    "a = b - A@x\n",
    "plt.hist(a,20)\n",
    "plt.ylabel(\"Number\")\n",
    "plt.xlabel(\"$b_i - a_i^Tx_{sum}$\")\n",
    "plt.plot()\n",
    "plt.show()"
   ]
  },
  {
   "cell_type": "code",
   "execution_count": 8,
   "id": "65ed22ad",
   "metadata": {},
   "outputs": [
    {
     "name": "stdout",
     "output_type": "stream",
     "text": [
      "Max infeasibility:  1.2041212171588023\n"
     ]
    },
    {
     "data": {
      "image/png": "[encoded data removed]",
      "text/plain": [
       "<Figure size 432x288 with 1 Axes>"
      ]
     },
     "metadata": {
      "needs_background": "light"
     },
     "output_type": "display_data"
    }
   ],
   "source": [
    "solver = interior_points(fs,A.copy(),b.copy(),x_0.copy())\n",
    "x = solver.phase_one_max()\n",
    "a = b - A@x\n",
    "plt.hist(a,20)\n",
    "plt.ylabel(\"Number\")\n",
    "plt.xlabel(\"$b_i - a_i^Tx_{max}$\")\n",
    "plt.plot()\n",
    "plt.show()"
   ]
  },
  {
   "cell_type": "markdown",
   "id": "a2d42aa2",
   "metadata": {},
   "source": [
    "## Solver vs Interior Points"
   ]
  },
  {
   "cell_type": "code",
   "execution_count": 26,
   "id": "94157803",
   "metadata": {},
   "outputs": [],
   "source": [
    "mu_vals = []\n",
    "nt_steps = []\n",
    "gap = []\n",
    "m,n = 50,100\n",
    "A,b,c = gen_LP_instance(m,n)\n",
    "def f_0(x):\n",
    "    return c@x\n",
    "fs = [f_0]\n",
    "for i in range(n):\n",
    "    def f_i(x,i=i):\n",
    "        return -x[i]\n",
    "    fs.append(f_i)\n",
    "x_0 = np.random.rand(n)\n",
    "# for i in range(5):\n",
    "#     mu = np.random.uniform(1.2,200)\n",
    "#     mu_vals.append(mu)\n",
    "#     solver = interior_points(fs,A.copy(),b.copy(),x_0.copy())\n",
    "#     x,nu,vals,steps = solver.solve()\n",
    "#     nt_steps.append(steps)"
   ]
  },
  {
   "cell_type": "code",
   "execution_count": 27,
   "id": "e8da0c8e",
   "metadata": {},
   "outputs": [
    {
     "name": "stderr",
     "output_type": "stream",
     "text": [
      "/home/dell/anaconda3/lib/python3.9/site-packages/autograd/tracer.py:48: RuntimeWarning: invalid value encountered in log\n",
      "  return f_raw(*args, **kwargs)\n"
     ]
    },
    {
     "name": "stdout",
     "output_type": "stream",
     "text": [
      "Max infeasibility:  -0.058440436581560506\n",
      "Begins phase two\n",
      "Max infeasibility:  -0.058440436581560506\n",
      "Begins phase two\n",
      "Max infeasibility:  -0.058440436581560506\n",
      "Begins phase two\n"
     ]
    }
   ],
   "source": [
    "for mu in [2,50,100]:\n",
    "    mu_vals.append(mu)\n",
    "    solver = interior_points(fs,A.copy(),b.copy(),x_0.copy(),mu=mu)\n",
    "    x,nu,vals,steps,_ = solver.solve()\n",
    "    nt_steps.append(steps)\n",
    "    gap.append(vals)"
   ]
  },
  {
   "cell_type": "code",
   "execution_count": 37,
   "id": "22250ef0",
   "metadata": {},
   "outputs": [
    {
     "data": {
      "text/plain": [
       "True"
      ]
     },
     "execution_count": 37,
     "metadata": {},
     "output_type": "execute_result"
    }
   ],
   "source": [
    "np.allclose(A@x,b)"
   ]
  },
  {
   "cell_type": "code",
   "execution_count": 38,
   "id": "ddd3c28e",
   "metadata": {},
   "outputs": [
    {
     "data": {
      "text/plain": [
       "True"
      ]
     },
     "execution_count": 38,
     "metadata": {},
     "output_type": "execute_result"
    }
   ],
   "source": [
    "np.all([f(x)<=0 for f in fs[1:]])"
   ]
  },
  {
   "cell_type": "code",
   "execution_count": 30,
   "id": "eaa8e2aa",
   "metadata": {},
   "outputs": [
    {
     "data": {
      "text/plain": [
       "(18.0, 35.0)"
      ]
     },
     "execution_count": 30,
     "metadata": {},
     "output_type": "execute_result"
    },
    {
     "data": {
      "image/png": "[encoded data removed]",
      "text/plain": [
       "<Figure size 432x288 with 1 Axes>"
      ]
     },
     "metadata": {
      "needs_background": "light"
     },
     "output_type": "display_data"
    }
   ],
   "source": [
    "m = 100\n",
    "for i in range(3):\n",
    "    plt.step(nt_steps[i],np.log(gap[i]),label=f\"$\\mu = {mu_vals[i]}$\")\n",
    "plt.legend()\n",
    "plt.xlabel(\"Iterations\")\n",
    "plt.ylabel(\"Duality gap\")\n",
    "plt.xlim(18,35)"
   ]
  },
  {
   "cell_type": "code",
   "execution_count": 55,
   "id": "d620e713",
   "metadata": {},
   "outputs": [
    {
     "name": "stderr",
     "output_type": "stream",
     "text": [
      "/home/dell/anaconda3/lib/python3.9/site-packages/autograd/tracer.py:48: RuntimeWarning: invalid value encountered in log\n",
      "  return f_raw(*args, **kwargs)\n"
     ]
    },
    {
     "name": "stdout",
     "output_type": "stream",
     "text": [
      "Max infeasibility:  -0.011837915321484815\n",
      "Begins phase two\n",
      "----------------------\n",
      "Max infeasibility:  -0.0032423226584772378\n",
      "Begins phase two\n",
      "----------------------\n",
      "Max infeasibility:  -0.0036361075280370034\n",
      "Begins phase two\n",
      "----------------------\n",
      "Max infeasibility:  -0.006809408526215145\n",
      "Begins phase two\n",
      "----------------------\n",
      "Max infeasibility:  -0.013665540731773618\n",
      "Begins phase two\n",
      "----------------------\n"
     ]
    }
   ],
   "source": [
    "data = dict()\n",
    "data[\"method\"] = []\n",
    "data[\"time\"] = []\n",
    "data[\"iters\"] = []\n",
    "data[\"instance\"] = []\n",
    "data[\"opt_val\"] = []\n",
    "m,n = 50,100\n",
    "for i in range(5):\n",
    "    A,b,c = gen_LP_instance(m,n)\n",
    "    def f_0(x):\n",
    "        return c@x\n",
    "    if i == 0:\n",
    "        fs = [f_0]\n",
    "        for i in range(n):\n",
    "            def f_i(x,i=i):\n",
    "                return -x[i]\n",
    "            fs.append(f_i)\n",
    "    else:\n",
    "        fs[0] = f_0\n",
    "    x_0 = np.random.rand(n)\n",
    "    st = time.time()\n",
    "    solver = interior_points(fs,A.copy(),b.copy(),x_0.copy())\n",
    "    x,nu,vals,_,_ = solver.solve()\n",
    "    end = time.time()\n",
    "    data[\"method\"].append(\"pontos interiores\")\n",
    "    data[\"time\"].append(end - st)\n",
    "    data[\"iters\"].append(len(vals))\n",
    "    data[\"instance\"].append(i)\n",
    "    data[\"opt_val\"].append(c@x)\n",
    "    print(\"----------------------\")\n",
    "    st = time.time()\n",
    "    x_cp = cp.Variable(len(x_0))\n",
    "    constraints = [A@x_cp == b,x_cp>=0]\n",
    "    obj = cp.Minimize(c@x_cp)\n",
    "    p = cp.Problem(obj,constraints)\n",
    "    p.solve()\n",
    "    end = time.time()\n",
    "    data[\"method\"].append(\"cvxpy\")\n",
    "    data[\"time\"].append(end - st)\n",
    "    data[\"iters\"].append(p.solution.attr[\"num_iters\"])\n",
    "    data[\"instance\"].append(i)\n",
    "    data[\"opt_val\"].append(p.solution.opt_val)\n",
    "#     data[\"opt_point\"].append(x)"
   ]
  },
  {
   "cell_type": "code",
   "execution_count": 62,
   "id": "e9ab8ac1",
   "metadata": {},
   "outputs": [],
   "source": [
    "data[\"instance\"][0] = data[\"instance\"][1] = 0"
   ]
  },
  {
   "cell_type": "code",
   "execution_count": 63,
   "id": "5b8f1b9f",
   "metadata": {},
   "outputs": [
    {
     "data": {
      "text/html": [
       "<div>\n",
       "<style scoped>\n",
       "    .dataframe tbody tr th:only-of-type {\n",
       "        vertical-align: middle;\n",
       "    }\n",
       "\n",
       "    .dataframe tbody tr th {\n",
       "        vertical-align: top;\n",
       "    }\n",
       "\n",
       "    .dataframe thead th {\n",
       "        text-align: right;\n",
       "    }\n",
       "</style>\n",
       "<table border=\"1\" class=\"dataframe\">\n",
       "  <thead>\n",
       "    <tr style=\"text-align: right;\">\n",
       "      <th></th>\n",
       "      <th>method</th>\n",
       "      <th>time</th>\n",
       "      <th>iters</th>\n",
       "      <th>instance</th>\n",
       "      <th>opt_val</th>\n",
       "    </tr>\n",
       "  </thead>\n",
       "  <tbody>\n",
       "    <tr>\n",
       "      <th>0</th>\n",
       "      <td>pontos interiores</td>\n",
       "      <td>66.746768</td>\n",
       "      <td>5</td>\n",
       "      <td>0</td>\n",
       "      <td>13.843384</td>\n",
       "    </tr>\n",
       "    <tr>\n",
       "      <th>1</th>\n",
       "      <td>cvxpy</td>\n",
       "      <td>0.016958</td>\n",
       "      <td>12</td>\n",
       "      <td>0</td>\n",
       "      <td>13.838220</td>\n",
       "    </tr>\n",
       "    <tr>\n",
       "      <th>2</th>\n",
       "      <td>pontos interiores</td>\n",
       "      <td>67.231335</td>\n",
       "      <td>5</td>\n",
       "      <td>1</td>\n",
       "      <td>15.243167</td>\n",
       "    </tr>\n",
       "    <tr>\n",
       "      <th>3</th>\n",
       "      <td>cvxpy</td>\n",
       "      <td>0.017625</td>\n",
       "      <td>10</td>\n",
       "      <td>1</td>\n",
       "      <td>15.238118</td>\n",
       "    </tr>\n",
       "    <tr>\n",
       "      <th>4</th>\n",
       "      <td>pontos interiores</td>\n",
       "      <td>71.590695</td>\n",
       "      <td>5</td>\n",
       "      <td>2</td>\n",
       "      <td>17.362022</td>\n",
       "    </tr>\n",
       "    <tr>\n",
       "      <th>5</th>\n",
       "      <td>cvxpy</td>\n",
       "      <td>0.022174</td>\n",
       "      <td>11</td>\n",
       "      <td>2</td>\n",
       "      <td>17.356952</td>\n",
       "    </tr>\n",
       "    <tr>\n",
       "      <th>6</th>\n",
       "      <td>pontos interiores</td>\n",
       "      <td>72.794597</td>\n",
       "      <td>5</td>\n",
       "      <td>3</td>\n",
       "      <td>15.386620</td>\n",
       "    </tr>\n",
       "    <tr>\n",
       "      <th>7</th>\n",
       "      <td>cvxpy</td>\n",
       "      <td>0.016535</td>\n",
       "      <td>10</td>\n",
       "      <td>3</td>\n",
       "      <td>15.381639</td>\n",
       "    </tr>\n",
       "    <tr>\n",
       "      <th>8</th>\n",
       "      <td>pontos interiores</td>\n",
       "      <td>68.065300</td>\n",
       "      <td>5</td>\n",
       "      <td>4</td>\n",
       "      <td>15.336378</td>\n",
       "    </tr>\n",
       "    <tr>\n",
       "      <th>9</th>\n",
       "      <td>cvxpy</td>\n",
       "      <td>0.015560</td>\n",
       "      <td>10</td>\n",
       "      <td>4</td>\n",
       "      <td>15.331420</td>\n",
       "    </tr>\n",
       "  </tbody>\n",
       "</table>\n",
       "</div>"
      ],
      "text/plain": [
       "              method       time  iters  instance    opt_val\n",
       "0  pontos interiores  66.746768      5         0  13.843384\n",
       "1              cvxpy   0.016958     12         0  13.838220\n",
       "2  pontos interiores  67.231335      5         1  15.243167\n",
       "3              cvxpy   0.017625     10         1  15.238118\n",
       "4  pontos interiores  71.590695      5         2  17.362022\n",
       "5              cvxpy   0.022174     11         2  17.356952\n",
       "6  pontos interiores  72.794597      5         3  15.386620\n",
       "7              cvxpy   0.016535     10         3  15.381639\n",
       "8  pontos interiores  68.065300      5         4  15.336378\n",
       "9              cvxpy   0.015560     10         4  15.331420"
      ]
     },
     "execution_count": 63,
     "metadata": {},
     "output_type": "execute_result"
    }
   ],
   "source": [
    "df = pd.DataFrame.from_dict(data)\n",
    "df"
   ]
  },
  {
   "cell_type": "code",
   "execution_count": null,
   "id": "99f7daf1",
   "metadata": {},
   "outputs": [],
   "source": [
    "!conda install sympy"
   ]
  },
  {
   "cell_type": "code",
   "execution_count": null,
   "id": "57ea3216",
   "metadata": {},
   "outputs": [],
   "source": [
    "import sympy\n",
    "from sympy import Symbol, simplify"
   ]
  },
  {
   "cell_type": "code",
   "execution_count": null,
   "id": "45ce7295",
   "metadata": {},
   "outputs": [],
   "source": [
    "s = [Symbol('s_'+str(i+1)) for i in range(2)]\n",
    "t = Symbol('t')\n",
    "x = [Symbol('x_'+str(i+1)) for i in range(2)]\n",
    "\n",
    "lamb = 0\n",
    "for i in range(2):\n",
    "    lamb -= sympy.ln(s[i] + x[i]) - t*s[i]\n",
    "simplify(lamb)"
   ]
  },
  {
   "cell_type": "code",
   "execution_count": null,
   "id": "a452ac2b",
   "metadata": {},
   "outputs": [],
   "source": [
    "[lamb.diff(x_i) for x_i in x+[s]]"
   ]
  },
  {
   "cell_type": "code",
   "execution_count": null,
   "id": "3c08bf81",
   "metadata": {},
   "outputs": [],
   "source": [
    "[lamb.diff(x_i).diff(y_i) for x_i in [s]+x for y_i in [s]+x]"
   ]
  },
  {
   "cell_type": "code",
   "execution_count": null,
   "id": "d9f7f8d0",
   "metadata": {},
   "outputs": [],
   "source": [
    "x = [Symbol('x_'+str(i+1)) for i in range(2)]\n",
    "c = [Symbol('c_'+str(i+1)) for i in range(2)]\n",
    "t = Symbol('t')\n",
    "lamb = 0\n",
    "for i in range(2):\n",
    "    lamb += t*c[i]*x[i]\n",
    "    lamb -= sympy.ln(x[i])\n",
    "simplify(lamb)"
   ]
  },
  {
   "cell_type": "code",
   "execution_count": null,
   "id": "0d61dc7d",
   "metadata": {},
   "outputs": [],
   "source": [
    "[lamb.diff(x_i) for x_i in x]"
   ]
  },
  {
   "cell_type": "code",
   "execution_count": null,
   "id": "d3c6defd",
   "metadata": {},
   "outputs": [],
   "source": [
    "[lamb.diff(x_i).diff(y_i) for x_i in x for y_i in x]"
   ]
  }
 ],
 "metadata": {
  "kernelspec": {
   "display_name": "Python 3 (ipykernel)",
   "language": "python",
   "name": "python3"
  },
  "language_info": {
   "codemirror_mode": {
    "name": "ipython",
    "version": 3
   },
   "file_extension": ".py",
   "mimetype": "text/x-python",
   "name": "python",
   "nbconvert_exporter": "python",
   "pygments_lexer": "ipython3",
   "version": "3.9.7"
  }
 },
 "nbformat": 4,
 "nbformat_minor": 5
}
