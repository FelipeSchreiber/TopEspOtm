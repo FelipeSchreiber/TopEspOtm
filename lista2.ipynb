{
 "cells": [
  {
   "cell_type": "code",
   "execution_count": 1,
   "id": "d05b29a1",
   "metadata": {},
   "outputs": [],
   "source": [
    "import numpy as np\n",
    "import matplotlib.pyplot as plt\n",
    "m = 4\n",
    "n = 10\n",
    "eta = 1e-5\n",
    "alpha = 0.01\n",
    "beta = 0.5\n",
    "A = np.random.normal(0,1,(m,n))"
   ]
  },
  {
   "cell_type": "code",
   "execution_count": 2,
   "id": "3fb5ce90",
   "metadata": {},
   "outputs": [],
   "source": [
    "def compute_gradient(x):\n",
    "    grad = np.zeros(len(x))\n",
    "#    grad = A.T@(1/(1-A@x)) + 1/(1-x) - 1/(1+x)\n",
    "    for j in range(n):\n",
    "        for i in range(m):\n",
    "            grad[j] += A[i,j]/(1-A[i,j]*x[j])\n",
    "        grad[j] += 2*x[j]/(1-x[j]**2)\n",
    "    return grad"
   ]
  },
  {
   "cell_type": "code",
   "execution_count": 3,
   "id": "986d06f6",
   "metadata": {},
   "outputs": [
    {
     "data": {
      "text/plain": [
       "array([ 1.15814217, -2.25809872,  0.59793305, -3.33802511,  0.879287  ,\n",
       "        0.57763664, -2.29739661,  3.88023596, -0.15072579,  2.40777491])"
      ]
     },
     "execution_count": 3,
     "metadata": {},
     "output_type": "execute_result"
    }
   ],
   "source": [
    "compute_gradient(np.zeros(n))"
   ]
  },
  {
   "cell_type": "code",
   "execution_count": 4,
   "id": "d1178845",
   "metadata": {},
   "outputs": [],
   "source": [
    "def f(x):\n",
    "#    return -np.sum(np.log(1-A@x)) -np.sum(np.log(1 - x**2))\n",
    "    total = 0\n",
    "    for i in range(m):\n",
    "        total -= np.log(1 - A[i,:]@x)\n",
    "    for i in range(n):\n",
    "        total -= np.log(1 - x[i]**2)\n",
    "    return total"
   ]
  },
  {
   "cell_type": "code",
   "execution_count": 5,
   "id": "b358c462",
   "metadata": {},
   "outputs": [],
   "source": [
    "def stop_condition(grad,eta):\n",
    "    return np.linalg.norm(grad) > eta"
   ]
  },
  {
   "cell_type": "code",
   "execution_count": 6,
   "id": "70ca66bb",
   "metadata": {},
   "outputs": [
    {
     "data": {
      "text/plain": [
       "0.0"
      ]
     },
     "execution_count": 6,
     "metadata": {},
     "output_type": "execute_result"
    }
   ],
   "source": [
    "f(np.zeros(n))"
   ]
  },
  {
   "cell_type": "code",
   "execution_count": 7,
   "id": "b05af28a",
   "metadata": {},
   "outputs": [],
   "source": [
    "def line_Search(v,alpha,beta,x):\n",
    "    t = 1\n",
    "    #include restrictions i.e. the domain\n",
    "    while np.max(A@(x + t*v))>=1 or np.max(np.abs(x + t*v))>=1:\n",
    "        t *=beta\n",
    "    grad = compute_gradient(x)\n",
    "    while f(x+t*v) > f(x) + alpha*t*(grad.dot(v)):\n",
    "        t *= beta\n",
    "    return t"
   ]
  },
  {
   "cell_type": "code",
   "execution_count": 16,
   "id": "92714894",
   "metadata": {},
   "outputs": [
    {
     "data": {
      "text/plain": [
       "Text(0, 0.5, 'f($x^k$) - p*')"
      ]
     },
     "execution_count": 16,
     "metadata": {},
     "output_type": "execute_result"
    },
    {
     "data": {
      "image/png": "[encoded data removed]",
      "text/plain": [
       "<Figure size 432x288 with 2 Axes>"
      ]
     },
     "metadata": {
      "needs_background": "light"
     },
     "output_type": "display_data"
    }
   ],
   "source": [
    "fig,axs = plt.subplots(1,2)\n",
    "for _ in  range(5):\n",
    "    x = np.zeros(n)\n",
    "    grad = compute_gradient(x)\n",
    "    alpha = np.random.uniform(0.01,0.5)\n",
    "    beta = np.random.uniform(0.5,1)\n",
    "    i = 0\n",
    "    y = []\n",
    "    while stop_condition(grad,eta) and i < 1000:\n",
    "        v = -1*compute_gradient(x)\n",
    "        t = line_Search(v,alpha,beta,x)\n",
    "        x += t*v\n",
    "        y.append(f(x))\n",
    "        i+=1\n",
    "    axs[0].plot(y,label=f\"alpha={alpha:.2f}, beta={beta:.2f}\")\n",
    "    axs[1].plot([np.abs(y[i] - y[-1]) for i in range(len(y))],\n",
    "                label=f\"alpha={alpha:.2f}, beta={beta:.2f}\")\n",
    "axs[0].set_xlabel(\"k\")\n",
    "axs[0].set_ylabel(\"f($x^k$)\")\n",
    "axs[0].legend(bbox_to_anchor=(-0.5, 1))\n",
    "axs[1].set_xlabel(\"k\")\n",
    "axs[1].set_ylabel(\"f($x^k$) - p*\")"
   ]
  },
  {
   "cell_type": "code",
   "execution_count": 9,
   "id": "baece186",
   "metadata": {},
   "outputs": [
    {
     "data": {
      "text/plain": [
       "array([-0.14914991,  0.29080646, -0.07700407,  0.42988344, -0.11323789,\n",
       "       -0.07439022,  0.29586739, -0.4997114 ,  0.01941103, -0.31008232])"
      ]
     },
     "execution_count": 9,
     "metadata": {},
     "output_type": "execute_result"
    }
   ],
   "source": [
    "x"
   ]
  },
  {
   "cell_type": "markdown",
   "id": "55f3ad9c",
   "metadata": {},
   "source": [
    "# Usando método de Newton"
   ]
  },
  {
   "cell_type": "code",
   "execution_count": 10,
   "id": "edf3b126",
   "metadata": {},
   "outputs": [],
   "source": [
    "def compute_Hessian(x):\n",
    "    hess = np.zeros((len(x),len(x)))\n",
    "#    grad = A.T@(1/(1-A@x)) + 1/(1-x) - 1/(1+x)\n",
    "#     for j in range(n):\n",
    "#         for i in range(m):\n",
    "#             hess[j,j] -= (A[i,j]/(1-A[i,j]*x[j]))**2\n",
    "#         hess[j,j] += 2/(1-x[j]**2) + (2*x[j]/(1-x[j]**2))**2\n",
    "    d = 1/(1-A@x)\n",
    "    hess = A.T@np.diag(d**2)@A + np.diag(1/(1+x)**2 + 1/(1-x)**2)\n",
    "    return hess"
   ]
  },
  {
   "cell_type": "code",
   "execution_count": 11,
   "id": "59830345",
   "metadata": {},
   "outputs": [],
   "source": [
    "def compute_Newton_step(x):\n",
    "    hess = compute_Hessian(x)\n",
    "    grad = compute_gradient(x)\n",
    "    #hess_inv = np.diag(1/np.diag(hess))\n",
    "    hess_inv = np.linalg.inv(hess)\n",
    "    step = hess_inv@grad\n",
    "    lambda_ = grad.dot(step)\n",
    "    return -step, lambda_ "
   ]
  },
  {
   "cell_type": "code",
   "execution_count": 12,
   "id": "e3030c1a",
   "metadata": {},
   "outputs": [],
   "source": [
    "def stop_condition_NT(lambda_,epsilon):\n",
    "    return lambda_ > epsilon"
   ]
  },
  {
   "cell_type": "code",
   "execution_count": 15,
   "id": "17f102fc",
   "metadata": {},
   "outputs": [
    {
     "data": {
      "text/plain": [
       "Text(0, 0.5, 'f($x^k$) - p*')"
      ]
     },
     "execution_count": 15,
     "metadata": {},
     "output_type": "execute_result"
    },
    {
     "data": {
      "image/png": "[encoded data removed]",
      "text/plain": [
       "<Figure size 432x288 with 2 Axes>"
      ]
     },
     "metadata": {
      "needs_background": "light"
     },
     "output_type": "display_data"
    }
   ],
   "source": [
    "epsilon = eta**2\n",
    "fig,axs = plt.subplots(1,2)\n",
    "for _ in range(5):\n",
    "    x = np.zeros(n)\n",
    "    v, l = compute_Newton_step(x)\n",
    "    alpha = np.random.uniform(0.01,0.5)\n",
    "    beta = np.random.uniform(0.5,1)\n",
    "    i = 0\n",
    "    y = []\n",
    "    while stop_condition_NT(l,epsilon) and i < 1000:\n",
    "        v, l = compute_Newton_step(x)\n",
    "        t = line_Search(v,alpha,beta,x)\n",
    "        x += t*v\n",
    "        y.append(f(x))\n",
    "        i+=1\n",
    "    axs[0].plot(y,label=f\"alpha={alpha:.2f}, beta={beta:.2f}\")\n",
    "    axs[1].plot([np.abs(y[i] - y[-1]) for i in range(len(y))],\n",
    "                label=f\"alpha={alpha:.2f}, beta={beta:.2f}\")\n",
    "axs[0].set_xlabel(\"k\")\n",
    "axs[0].set_ylabel(\"f($x^k$)\")\n",
    "axs[0].legend(bbox_to_anchor=(-0.5, 1))\n",
    "axs[1].set_xlabel(\"k\")\n",
    "axs[1].set_ylabel(\"f($x^k$) - p*\")"
   ]
  }
 ],
 "metadata": {
  "kernelspec": {
   "display_name": "Python 3 (ipykernel)",
   "language": "python",
   "name": "python3"
  },
  "language_info": {
   "codemirror_mode": {
    "name": "ipython",
    "version": 3
   },
   "file_extension": ".py",
   "mimetype": "text/x-python",
   "name": "python",
   "nbconvert_exporter": "python",
   "pygments_lexer": "ipython3",
   "version": "3.9.7"
  }
 },
 "nbformat": 4,
 "nbformat_minor": 5
}
