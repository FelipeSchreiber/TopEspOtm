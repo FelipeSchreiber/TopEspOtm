{
 "cells": [
  {
   "cell_type": "code",
   "execution_count": 1,
   "id": "3eae14ae",
   "metadata": {},
   "outputs": [],
   "source": [
    "import numpy as np\n",
    "from numpy.linalg import inv\n",
    "from scipy import linalg\n",
    "from scipy.linalg import lu_factor, lu_solve, solve_banded,cho_solve,cho_factor"
   ]
  },
  {
   "cell_type": "code",
   "execution_count": 2,
   "id": "10616cbc",
   "metadata": {},
   "outputs": [],
   "source": [
    "k = 100\n",
    "n = 10000\n",
    "A = np.random.rand(k,n)\n",
    "b = np.random.rand(k)\n",
    "ones = np.ones(n)\n",
    "I = np.diag(ones)\n",
    "gamma = np.diag(-1*ones[:-1],1) + I \n",
    "gamma[9999,9999] = 0\n",
    "M = gamma.T@gamma + I"
   ]
  },
  {
   "cell_type": "code",
   "execution_count": 3,
   "id": "8b680ed0",
   "metadata": {},
   "outputs": [],
   "source": [
    "ab = np.zeros((3,n))\n",
    "ab[0,1:] = np.diag(M,1)\n",
    "ab[1,:] = np.diag(M)\n",
    "ab[2,:-1] = np.diag(M,-1)"
   ]
  },
  {
   "cell_type": "code",
   "execution_count": 4,
   "id": "feac656a",
   "metadata": {},
   "outputs": [
    {
     "name": "stdout",
     "output_type": "stream",
     "text": [
      "CPU times: user 1.82 s, sys: 284 ms, total: 2.1 s\n",
      "Wall time: 1.84 s\n"
     ]
    }
   ],
   "source": [
    "%%time\n",
    "M_inv = solve_banded((1,1),ab,np.eye(n))"
   ]
  },
  {
   "cell_type": "code",
   "execution_count": 5,
   "id": "6869ac96",
   "metadata": {},
   "outputs": [],
   "source": [
    "G = np.ones(100) + A@M_inv@A.T"
   ]
  },
  {
   "cell_type": "code",
   "execution_count": 6,
   "id": "18c592c6",
   "metadata": {},
   "outputs": [
    {
     "name": "stdout",
     "output_type": "stream",
     "text": [
      "218 µs ± 3.85 µs per loop (mean ± std. dev. of 7 runs, 1000 loops each)\n"
     ]
    }
   ],
   "source": [
    "%%timeit\n",
    "c,L = cho_factor(G)\n",
    "G_inv = cho_solve((c,L),np.eye(k))"
   ]
  },
  {
   "cell_type": "code",
   "execution_count": 7,
   "id": "2d7266ff",
   "metadata": {},
   "outputs": [
    {
     "name": "stdout",
     "output_type": "stream",
     "text": [
      "216 µs ± 2.13 µs per loop (mean ± std. dev. of 7 runs, 1000 loops each)\n"
     ]
    }
   ],
   "source": [
    "%%timeit\n",
    "inv(G)"
   ]
  },
  {
   "cell_type": "code",
   "execution_count": 8,
   "id": "3cfc153d",
   "metadata": {},
   "outputs": [],
   "source": [
    "#(M_inv - (M_inv@A.T@inv(np.ones(100) + A@M_inv@A.T)@A@M_inv)).shape"
   ]
  },
  {
   "cell_type": "code",
   "execution_count": 9,
   "id": "dce02184",
   "metadata": {},
   "outputs": [
    {
     "name": "stdout",
     "output_type": "stream",
     "text": [
      "4.82 s ± 65.2 ms per loop (mean ± std. dev. of 7 runs, 1 loop each)\n"
     ]
    }
   ],
   "source": [
    "%%timeit\n",
    "M_inv = solve_banded((1,1),ab,np.eye(n))\n",
    "G = np.ones(100) + A@M_inv@A.T\n",
    "b2 = b@A\n",
    "y = np.linalg.solve(G,A@M_inv@b2)\n",
    "x = M_inv@b2 - M_inv@A.T@y"
   ]
  },
  {
   "cell_type": "code",
   "execution_count": 11,
   "id": "ca14f773",
   "metadata": {},
   "outputs": [
    {
     "name": "stdout",
     "output_type": "stream",
     "text": [
      "55.5 s ± 871 ms per loop (mean ± std. dev. of 7 runs, 1 loop each)\n"
     ]
    }
   ],
   "source": [
    "%%timeit\n",
    "D = (M + A.T@A)\n",
    "D_inv = inv(D)\n",
    "x2 = D_inv@(b@A)"
   ]
  }
 ],
 "metadata": {
  "kernelspec": {
   "display_name": "Python 3 (ipykernel)",
   "language": "python",
   "name": "python3"
  },
  "language_info": {
   "codemirror_mode": {
    "name": "ipython",
    "version": 3
   },
   "file_extension": ".py",
   "mimetype": "text/x-python",
   "name": "python",
   "nbconvert_exporter": "python",
   "pygments_lexer": "ipython3",
   "version": "3.9.7"
  }
 },
 "nbformat": 4,
 "nbformat_minor": 5
}
